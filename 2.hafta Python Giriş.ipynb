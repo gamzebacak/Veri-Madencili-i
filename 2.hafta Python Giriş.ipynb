{
 "cells": [
  {
   "cell_type": "code",
   "execution_count": null,
   "id": "391496bf",
   "metadata": {},
   "outputs": [],
   "source": [
    "# a yukarıya b aşağıya doğru satır ekler \n",
    "# silmek için 2 defa d'ye bas "
   ]
  },
  {
   "cell_type": "code",
   "execution_count": 1,
   "id": "ba1db328",
   "metadata": {},
   "outputs": [
    {
     "name": "stdout",
     "output_type": "stream",
     "text": [
      "ekrana yazı yazmak için kullanılır.\n"
     ]
    }
   ],
   "source": [
    "print(\"ekrana yazı yazmak için kullanılır.\")"
   ]
  },
  {
   "cell_type": "code",
   "execution_count": null,
   "id": "c3784f85",
   "metadata": {},
   "outputs": [],
   "source": [
    "# pr diyip tab tuşuna basılırsa kısayollar gelir.\n",
    "# shift+tab yaparsan yardım ekranı gelir.\n",
    "# Kodu çalıştırmak için shift+enter kullanılır.\n"
   ]
  },
  {
   "cell_type": "code",
   "execution_count": 2,
   "id": "f7127d02",
   "metadata": {},
   "outputs": [
    {
     "name": "stdout",
     "output_type": "stream",
     "text": [
      "Hello World\n"
     ]
    }
   ],
   "source": [
    "print(\"Hello World\")"
   ]
  },
  {
   "cell_type": "code",
   "execution_count": 3,
   "id": "fd53e227",
   "metadata": {},
   "outputs": [
    {
     "name": "stdout",
     "output_type": "stream",
     "text": [
      "Hello World Hello Python\n"
     ]
    }
   ],
   "source": [
    "print(\"Hello World\",\"Hello Python\")"
   ]
  },
  {
   "cell_type": "code",
   "execution_count": 4,
   "id": "8706ff40",
   "metadata": {},
   "outputs": [
    {
     "name": "stdout",
     "output_type": "stream",
     "text": [
      "Hello World&Hello Python\n"
     ]
    }
   ],
   "source": [
    "print(\"Hello World\",\"Hello Python\",sep=\"&\")  # sep=\"&\" ile aralarına & koyduk."
   ]
  },
  {
   "cell_type": "code",
   "execution_count": 5,
   "id": "61d9f8a8",
   "metadata": {},
   "outputs": [
    {
     "name": "stdout",
     "output_type": "stream",
     "text": [
      "Hello World\n",
      "Hello Java\n"
     ]
    }
   ],
   "source": [
    "print(\"Hello World\")\n",
    "print(\"Hello Java\")"
   ]
  },
  {
   "cell_type": "code",
   "execution_count": 6,
   "id": "90801bb8",
   "metadata": {},
   "outputs": [
    {
     "name": "stdout",
     "output_type": "stream",
     "text": [
      "Hello World Hello Java\n"
     ]
    }
   ],
   "source": [
    "print(\"Hello World\",end=\" \") # end=\" \" ile yan yana yazdık. alt satıra otomatik inmedi ve boşluk koydu.\n",
    "print(\"Hello Java\")"
   ]
  },
  {
   "cell_type": "code",
   "execution_count": 7,
   "id": "d97c3072",
   "metadata": {},
   "outputs": [],
   "source": [
    "tam_sayi=15\n",
    "float_sayi=35.5\n",
    "kelime=\"merhaba\"\n",
    "mantik=True\n",
    "karmasik=3+5j"
   ]
  },
  {
   "cell_type": "code",
   "execution_count": 8,
   "id": "1333083d",
   "metadata": {},
   "outputs": [
    {
     "name": "stdout",
     "output_type": "stream",
     "text": [
      "tam_sayi değişkeni<class 'int'> türündedir\n"
     ]
    }
   ],
   "source": [
    "print(f\"tam_sayi değişkeni {type(tam_sayi)} türündedir\")  # formatlamak için f harfi kullandık"
   ]
  },
  {
   "cell_type": "code",
   "execution_count": 9,
   "id": "09c63553",
   "metadata": {},
   "outputs": [
    {
     "name": "stdout",
     "output_type": "stream",
     "text": [
      "float_sayi değişkeni<class 'float'> türündedir\n",
      "kelime değişkeni<class 'str'> türündedir\n",
      "mantik değişkeni<class 'bool'> türündedir\n",
      "karmasik değişkeni<class 'complex'> türündedir\n"
     ]
    }
   ],
   "source": [
    "print(f\"float_sayi değişkeni {type(float_sayi)} türündedir\")\n",
    "print(f\"kelime değişkeni {type(kelime)} türündedir\")\n",
    "print(f\"mantik değişkeni {type(mantik)} türündedir\")\n",
    "print(f\"karmasik değişkeni {type(karmasik)} türündedir\")"
   ]
  },
  {
   "cell_type": "code",
   "execution_count": 11,
   "id": "a8f4959f",
   "metadata": {},
   "outputs": [
    {
     "name": "stdout",
     "output_type": "stream",
     "text": [
      "5 + 10 = 15\n"
     ]
    }
   ],
   "source": [
    "sayi1=5\n",
    "sayi2=10\n",
    "print(f\"{sayi1} + {sayi2} = {sayi1+sayi2}\")"
   ]
  },
  {
   "cell_type": "code",
   "execution_count": null,
   "id": "ae349cb9",
   "metadata": {},
   "outputs": [],
   "source": [
    "# "
   ]
  },
  {
   "cell_type": "code",
   "execution_count": 12,
   "id": "0563eb82",
   "metadata": {},
   "outputs": [
    {
     "data": {
      "text/plain": [
       "7"
      ]
     },
     "execution_count": 12,
     "metadata": {},
     "output_type": "execute_result"
    }
   ],
   "source": [
    "len(\"Merhaba\")   # len uzunluk buldu."
   ]
  },
  {
   "cell_type": "code",
   "execution_count": 13,
   "id": "a5223a8e",
   "metadata": {},
   "outputs": [
    {
     "data": {
      "text/plain": [
       "3"
      ]
     },
     "execution_count": 13,
     "metadata": {},
     "output_type": "execute_result"
    }
   ],
   "source": [
    "int(3.14)"
   ]
  },
  {
   "cell_type": "code",
   "execution_count": 14,
   "id": "f2f32765",
   "metadata": {},
   "outputs": [
    {
     "data": {
      "text/plain": [
       "4"
      ]
     },
     "execution_count": 14,
     "metadata": {},
     "output_type": "execute_result"
    }
   ],
   "source": [
    "round(3.54)    # round yuvarlama işlemi yapar"
   ]
  },
  {
   "cell_type": "code",
   "execution_count": 15,
   "id": "258399c0",
   "metadata": {},
   "outputs": [
    {
     "data": {
      "text/plain": [
       "3"
      ]
     },
     "execution_count": 15,
     "metadata": {},
     "output_type": "execute_result"
    }
   ],
   "source": [
    "round(3.45)"
   ]
  },
  {
   "cell_type": "code",
   "execution_count": 16,
   "id": "a7b162fb",
   "metadata": {},
   "outputs": [
    {
     "data": {
      "text/plain": [
       "'maşallahmaşallahmaşallahmaşallahmaşallahmaşallahmaşallahmaşallahmaşallahmaşallahmaşallahmaşallahmaşallahmaşallahmaşallahmaşallahmaşallahmaşallahmaşallahmaşallahmaşallahmaşallahmaşallahmaşallahmaşallahmaşallahmaşallahmaşallahmaşallahmaşallahmaşallahmaşallahmaşallahmaşallahmaşallahmaşallahmaşallahmaşallahmaşallahmaşallahmaşallah'"
      ]
     },
     "execution_count": 16,
     "metadata": {},
     "output_type": "execute_result"
    }
   ],
   "source": [
    "41*\"maşallah\""
   ]
  },
  {
   "cell_type": "code",
   "execution_count": 17,
   "id": "a9c40bba",
   "metadata": {},
   "outputs": [],
   "source": [
    "import math  # math kütüphanesini ekledik"
   ]
  },
  {
   "cell_type": "code",
   "execution_count": 18,
   "id": "8ad521c9",
   "metadata": {},
   "outputs": [
    {
     "data": {
      "text/plain": [
       "120"
      ]
     },
     "execution_count": 18,
     "metadata": {},
     "output_type": "execute_result"
    }
   ],
   "source": [
    "math.factorial(5)"
   ]
  },
  {
   "cell_type": "code",
   "execution_count": 19,
   "id": "6ae80e11",
   "metadata": {},
   "outputs": [
    {
     "data": {
      "text/plain": [
       "-0.9524129804151563"
      ]
     },
     "execution_count": 19,
     "metadata": {},
     "output_type": "execute_result"
    }
   ],
   "source": [
    "math.cos(60)    # bu radyana bağlı olduğu için çalışmaz(sonuç yanlış)(D/180=R/pi)"
   ]
  },
  {
   "cell_type": "code",
   "execution_count": 20,
   "id": "40e6bb5c",
   "metadata": {},
   "outputs": [
    {
     "data": {
      "text/plain": [
       "0.5000000000000001"
      ]
     },
     "execution_count": 20,
     "metadata": {},
     "output_type": "execute_result"
    }
   ],
   "source": [
    "math.cos(math.radians(60))   # radyana çevirme işlemi yaptık"
   ]
  },
  {
   "cell_type": "code",
   "execution_count": null,
   "id": "f8dc4a74",
   "metadata": {},
   "outputs": [],
   "source": [
    "\"\"\"\n",
    "çoklu açıklama satırı \n",
    "\n",
    "\"\"\""
   ]
  },
  {
   "cell_type": "code",
   "execution_count": null,
   "id": "0a38fbb5",
   "metadata": {},
   "outputs": [],
   "source": [
    "# for döngü_değişkeni in range(start,stop,artış veya azalış değeri):  #range aralık belirlemeyi sağlar.\n",
    "    #yapılacaklar\n",
    "# başlangıç dahil , bitiş dahil değildir."
   ]
  },
  {
   "cell_type": "code",
   "execution_count": 23,
   "id": "7c51d4c7",
   "metadata": {},
   "outputs": [
    {
     "name": "stdout",
     "output_type": "stream",
     "text": [
      "1\n",
      "2\n",
      "3\n",
      "4\n",
      "5\n",
      "6\n",
      "7\n",
      "8\n",
      "9\n"
     ]
    }
   ],
   "source": [
    "for i in range(1,10):      \n",
    "    print(i)"
   ]
  },
  {
   "cell_type": "code",
   "execution_count": 24,
   "id": "2ffabc06",
   "metadata": {},
   "outputs": [
    {
     "name": "stdout",
     "output_type": "stream",
     "text": [
      "1\n",
      "3\n",
      "5\n",
      "7\n",
      "9\n"
     ]
    }
   ],
   "source": [
    "for i in range(1,10,2):      \n",
    "    print(i)"
   ]
  },
  {
   "cell_type": "code",
   "execution_count": 27,
   "id": "bc10d855",
   "metadata": {},
   "outputs": [
    {
     "name": "stdout",
     "output_type": "stream",
     "text": [
      "10\n",
      "8\n",
      "6\n",
      "4\n",
      "2\n"
     ]
    }
   ],
   "source": [
    "for i in range(10,1,-2):      \n",
    "    print(i)"
   ]
  },
  {
   "cell_type": "code",
   "execution_count": 28,
   "id": "65eaedcb",
   "metadata": {},
   "outputs": [
    {
     "name": "stdout",
     "output_type": "stream",
     "text": [
      "0\n",
      "1\n",
      "2\n",
      "3\n",
      "4\n",
      "5\n",
      "6\n",
      "7\n",
      "8\n",
      "9\n"
     ]
    }
   ],
   "source": [
    "i=0\n",
    "while i<10:\n",
    "    print(i)\n",
    "    i+=1"
   ]
  },
  {
   "cell_type": "code",
   "execution_count": 29,
   "id": "d88f338f",
   "metadata": {},
   "outputs": [
    {
     "name": "stdout",
     "output_type": "stream",
     "text": [
      "a büyüktür \n"
     ]
    }
   ],
   "source": [
    "a=5\n",
    "b=4\n",
    "if a>b:\n",
    "    print(\"a büyüktür \")\n",
    "elif a==b:\n",
    "    print(\"a eşit b\")\n",
    "else:\n",
    "    print(\"b yüktür \")"
   ]
  },
  {
   "cell_type": "code",
   "execution_count": 30,
   "id": "baf1b8d8",
   "metadata": {},
   "outputs": [
    {
     "name": "stdout",
     "output_type": "stream",
     "text": [
      "<class 'list'>\n",
      "<class 'list'>\n"
     ]
    }
   ],
   "source": [
    "liste1=[]\n",
    "liste2=list()\n",
    "print(type(liste1))\n",
    "print(type(liste2))"
   ]
  },
  {
   "cell_type": "code",
   "execution_count": 33,
   "id": "2f289477",
   "metadata": {},
   "outputs": [
    {
     "data": {
      "text/plain": [
       "[15, 'merhaba', 3.14, True, (3+5j)]"
      ]
     },
     "execution_count": 33,
     "metadata": {},
     "output_type": "execute_result"
    }
   ],
   "source": [
    "liste_yeni=[15,\"merhaba\",3.14,True,3+5j]\n",
    "liste_yeni"
   ]
  },
  {
   "cell_type": "code",
   "execution_count": 34,
   "id": "e0c26a5e",
   "metadata": {},
   "outputs": [
    {
     "data": {
      "text/plain": [
       "[15, 'merhaba', 3.14, True, (3+5j), 'Son']"
      ]
     },
     "execution_count": 34,
     "metadata": {},
     "output_type": "execute_result"
    }
   ],
   "source": [
    "liste_yeni.append(\"Son\")   # append ile listeye eleman ekledik.\n",
    "liste_yeni"
   ]
  },
  {
   "cell_type": "code",
   "execution_count": 35,
   "id": "0cf17322",
   "metadata": {},
   "outputs": [
    {
     "data": {
      "text/plain": [
       "15"
      ]
     },
     "execution_count": 35,
     "metadata": {},
     "output_type": "execute_result"
    }
   ],
   "source": [
    "liste_yeni[0]   # 0. elemana ulaştık"
   ]
  },
  {
   "cell_type": "code",
   "execution_count": 36,
   "id": "39fc9e02",
   "metadata": {},
   "outputs": [
    {
     "name": "stdout",
     "output_type": "stream",
     "text": [
      "15\n",
      "merhaba\n",
      "3.14\n",
      "True\n",
      "(3+5j)\n",
      "Son\n"
     ]
    }
   ],
   "source": [
    "for elm in liste_yeni:\n",
    "    print(elm)"
   ]
  },
  {
   "cell_type": "code",
   "execution_count": 38,
   "id": "f5d1b06f",
   "metadata": {},
   "outputs": [
    {
     "name": "stdout",
     "output_type": "stream",
     "text": [
      "0. eleman 15\n",
      "1. eleman merhaba\n",
      "2. eleman 3.14\n",
      "3. eleman True\n",
      "4. eleman (3+5j)\n",
      "5. eleman Son\n"
     ]
    }
   ],
   "source": [
    "for i in range(len(liste_yeni)):\n",
    "    print(f\"{i}. eleman {liste_yeni[i]}\")"
   ]
  },
  {
   "cell_type": "code",
   "execution_count": 39,
   "id": "8b77bc69",
   "metadata": {},
   "outputs": [
    {
     "name": "stdout",
     "output_type": "stream",
     "text": [
      "<class 'tuple'>\n",
      "<class 'tuple'>\n"
     ]
    }
   ],
   "source": [
    "# BİLGİ AMAÇLI\n",
    "# 1 kere tanımlandıktan sonra bir daha asla değişiklik yapılamaz.\n",
    "# tuple'ler () ile gösterilir.\n",
    "# içerisine değer eklenemez ve değer silinemez!!!!\n",
    "\n",
    "tuple1=()\n",
    "tuple2=tuple()\n",
    "print(type(tuple1))\n",
    "print(type(tuple2))"
   ]
  },
  {
   "cell_type": "code",
   "execution_count": 40,
   "id": "b2028b04",
   "metadata": {},
   "outputs": [
    {
     "data": {
      "text/plain": [
       "(1, 2, 3, 4, 5)"
      ]
     },
     "execution_count": 40,
     "metadata": {},
     "output_type": "execute_result"
    }
   ],
   "source": [
    "tuple_new = (1,2,3,4,5)\n",
    "tuple_new\n"
   ]
  },
  {
   "cell_type": "code",
   "execution_count": 42,
   "id": "2f7da1dc",
   "metadata": {},
   "outputs": [
    {
     "name": "stdout",
     "output_type": "stream",
     "text": [
      "<class 'dict'>\n",
      "<class 'dict'>\n"
     ]
    }
   ],
   "source": [
    "dict1={}\n",
    "dict2=dict()\n",
    "print(type(dict1))\n",
    "print(type(dict2))"
   ]
  },
  {
   "cell_type": "code",
   "execution_count": 43,
   "id": "5cc35db8",
   "metadata": {},
   "outputs": [
    {
     "data": {
      "text/plain": [
       "{'Kalem': 2, 'Defter': 5, 'Silgi': 10}"
      ]
     },
     "execution_count": 43,
     "metadata": {},
     "output_type": "execute_result"
    }
   ],
   "source": [
    "dict_new={\n",
    "    \"Kalem\":2,\n",
    "    \"Defter\":5,\n",
    "    \"Silgi\":10 \n",
    "}\n",
    "dict_new"
   ]
  },
  {
   "cell_type": "code",
   "execution_count": 44,
   "id": "f193bbf0",
   "metadata": {},
   "outputs": [
    {
     "data": {
      "text/plain": [
       "2"
      ]
     },
     "execution_count": 44,
     "metadata": {},
     "output_type": "execute_result"
    }
   ],
   "source": [
    "dict_new['Kalem']   #kalemin değerini aldık"
   ]
  },
  {
   "cell_type": "code",
   "execution_count": 45,
   "id": "c9c3979b",
   "metadata": {},
   "outputs": [
    {
     "data": {
      "text/plain": [
       "{1: 3, 2: 3, 10: 2, 18: 1, 4: 2, 75: 1, 3: 1, 5: 1}"
      ]
     },
     "execution_count": 45,
     "metadata": {},
     "output_type": "execute_result"
    }
   ],
   "source": [
    "# bu liste içinde her bir elemandan kaç tane var onu bul ekrana yazdır.\n",
    "liste = [1,2,10,18,1,2,4,10,75,3,4,1,5,2]\n",
    "sonuc={}\n",
    "\n",
    "for elm in liste:\n",
    "    if elm not in sonuc.keys():\n",
    "        sonuc[elm]=1\n",
    "    else:\n",
    "        sonuc[elm] +=1\n",
    "        \n",
    "sonuc\n"
   ]
  },
  {
   "cell_type": "code",
   "execution_count": null,
   "id": "93e2876a",
   "metadata": {},
   "outputs": [],
   "source": []
  },
  {
   "cell_type": "code",
   "execution_count": null,
   "id": "ae356d5e",
   "metadata": {},
   "outputs": [],
   "source": []
  },
  {
   "cell_type": "code",
   "execution_count": null,
   "id": "2a9afd69",
   "metadata": {},
   "outputs": [],
   "source": []
  },
  {
   "cell_type": "code",
   "execution_count": null,
   "id": "e5c24e2e",
   "metadata": {},
   "outputs": [],
   "source": []
  },
  {
   "cell_type": "code",
   "execution_count": null,
   "id": "f3c1fbf7",
   "metadata": {},
   "outputs": [],
   "source": []
  },
  {
   "cell_type": "code",
   "execution_count": null,
   "id": "1bc2e584",
   "metadata": {},
   "outputs": [],
   "source": []
  },
  {
   "cell_type": "code",
   "execution_count": null,
   "id": "2d8e8c84",
   "metadata": {},
   "outputs": [],
   "source": []
  },
  {
   "cell_type": "code",
   "execution_count": null,
   "id": "cab886bb",
   "metadata": {},
   "outputs": [],
   "source": []
  },
  {
   "cell_type": "code",
   "execution_count": null,
   "id": "0430d1c4",
   "metadata": {},
   "outputs": [],
   "source": []
  },
  {
   "cell_type": "code",
   "execution_count": null,
   "id": "40697253",
   "metadata": {},
   "outputs": [],
   "source": []
  }
 ],
 "metadata": {
  "kernelspec": {
   "display_name": "Python 3 (ipykernel)",
   "language": "python",
   "name": "python3"
  },
  "language_info": {
   "codemirror_mode": {
    "name": "ipython",
    "version": 3
   },
   "file_extension": ".py",
   "mimetype": "text/x-python",
   "name": "python",
   "nbconvert_exporter": "python",
   "pygments_lexer": "ipython3",
   "version": "3.9.12"
  }
 },
 "nbformat": 4,
 "nbformat_minor": 5
}
