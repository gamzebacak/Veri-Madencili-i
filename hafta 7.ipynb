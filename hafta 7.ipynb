{
 "cells": [
  {
   "cell_type": "code",
   "execution_count": 1,
   "id": "81f3d93f",
   "metadata": {},
   "outputs": [
    {
     "data": {
      "text/html": [
       "<div>\n",
       "<style scoped>\n",
       "    .dataframe tbody tr th:only-of-type {\n",
       "        vertical-align: middle;\n",
       "    }\n",
       "\n",
       "    .dataframe tbody tr th {\n",
       "        vertical-align: top;\n",
       "    }\n",
       "\n",
       "    .dataframe thead th {\n",
       "        text-align: right;\n",
       "    }\n",
       "</style>\n",
       "<table border=\"1\" class=\"dataframe\">\n",
       "  <thead>\n",
       "    <tr style=\"text-align: right;\">\n",
       "      <th></th>\n",
       "      <th>ID</th>\n",
       "      <th>sex</th>\n",
       "      <th>age</th>\n",
       "      <th>surgery</th>\n",
       "      <th>heart rate</th>\n",
       "      <th>temperature</th>\n",
       "      <th>bilirubin</th>\n",
       "      <th>SAPS II</th>\n",
       "      <th>liver failure</th>\n",
       "      <th>LOS</th>\n",
       "      <th>outcome</th>\n",
       "    </tr>\n",
       "  </thead>\n",
       "  <tbody>\n",
       "    <tr>\n",
       "      <th>0</th>\n",
       "      <td>1</td>\n",
       "      <td>female</td>\n",
       "      <td>76</td>\n",
       "      <td>other</td>\n",
       "      <td>98.0</td>\n",
       "      <td>36.5</td>\n",
       "      <td>6.512142</td>\n",
       "      <td>57</td>\n",
       "      <td>0</td>\n",
       "      <td>1</td>\n",
       "      <td>died</td>\n",
       "    </tr>\n",
       "    <tr>\n",
       "      <th>1</th>\n",
       "      <td>2</td>\n",
       "      <td>female</td>\n",
       "      <td>60</td>\n",
       "      <td>gastrointestinal</td>\n",
       "      <td>80.0</td>\n",
       "      <td>38.1</td>\n",
       "      <td>14.523197</td>\n",
       "      <td>52</td>\n",
       "      <td>0</td>\n",
       "      <td>2</td>\n",
       "      <td>home</td>\n",
       "    </tr>\n",
       "    <tr>\n",
       "      <th>2</th>\n",
       "      <td>3</td>\n",
       "      <td>male</td>\n",
       "      <td>66</td>\n",
       "      <td>cardiothoracic</td>\n",
       "      <td>99.6</td>\n",
       "      <td>37.4</td>\n",
       "      <td>22.972480</td>\n",
       "      <td>57</td>\n",
       "      <td>0</td>\n",
       "      <td>1</td>\n",
       "      <td>secondary care/rehab</td>\n",
       "    </tr>\n",
       "    <tr>\n",
       "      <th>3</th>\n",
       "      <td>4</td>\n",
       "      <td>male</td>\n",
       "      <td>74</td>\n",
       "      <td>other</td>\n",
       "      <td>110.0</td>\n",
       "      <td>39.1</td>\n",
       "      <td>19.299346</td>\n",
       "      <td>45</td>\n",
       "      <td>0</td>\n",
       "      <td>2</td>\n",
       "      <td>home</td>\n",
       "    </tr>\n",
       "    <tr>\n",
       "      <th>4</th>\n",
       "      <td>5</td>\n",
       "      <td>female</td>\n",
       "      <td>68</td>\n",
       "      <td>other</td>\n",
       "      <td>94.1</td>\n",
       "      <td>38.5</td>\n",
       "      <td>39.076485</td>\n",
       "      <td>49</td>\n",
       "      <td>0</td>\n",
       "      <td>1</td>\n",
       "      <td>home</td>\n",
       "    </tr>\n",
       "    <tr>\n",
       "      <th>...</th>\n",
       "      <td>...</td>\n",
       "      <td>...</td>\n",
       "      <td>...</td>\n",
       "      <td>...</td>\n",
       "      <td>...</td>\n",
       "      <td>...</td>\n",
       "      <td>...</td>\n",
       "      <td>...</td>\n",
       "      <td>...</td>\n",
       "      <td>...</td>\n",
       "      <td>...</td>\n",
       "    </tr>\n",
       "    <tr>\n",
       "      <th>495</th>\n",
       "      <td>496</td>\n",
       "      <td>male</td>\n",
       "      <td>62</td>\n",
       "      <td>cardiothoracic</td>\n",
       "      <td>118.0</td>\n",
       "      <td>37.3</td>\n",
       "      <td>13.234537</td>\n",
       "      <td>33</td>\n",
       "      <td>0</td>\n",
       "      <td>1</td>\n",
       "      <td>secondary care/rehab</td>\n",
       "    </tr>\n",
       "    <tr>\n",
       "      <th>496</th>\n",
       "      <td>497</td>\n",
       "      <td>male</td>\n",
       "      <td>67</td>\n",
       "      <td>cardiothoracic</td>\n",
       "      <td>115.0</td>\n",
       "      <td>38.0</td>\n",
       "      <td>10.740772</td>\n",
       "      <td>56</td>\n",
       "      <td>0</td>\n",
       "      <td>1</td>\n",
       "      <td>died</td>\n",
       "    </tr>\n",
       "    <tr>\n",
       "      <th>497</th>\n",
       "      <td>498</td>\n",
       "      <td>female</td>\n",
       "      <td>53</td>\n",
       "      <td>cardiothoracic</td>\n",
       "      <td>131.0</td>\n",
       "      <td>37.9</td>\n",
       "      <td>14.131188</td>\n",
       "      <td>38</td>\n",
       "      <td>0</td>\n",
       "      <td>3</td>\n",
       "      <td>secondary care/rehab</td>\n",
       "    </tr>\n",
       "    <tr>\n",
       "      <th>498</th>\n",
       "      <td>499</td>\n",
       "      <td>male</td>\n",
       "      <td>68</td>\n",
       "      <td>other</td>\n",
       "      <td>86.9</td>\n",
       "      <td>36.0</td>\n",
       "      <td>9.596478</td>\n",
       "      <td>66</td>\n",
       "      <td>0</td>\n",
       "      <td>2</td>\n",
       "      <td>home</td>\n",
       "    </tr>\n",
       "    <tr>\n",
       "      <th>499</th>\n",
       "      <td>500</td>\n",
       "      <td>male</td>\n",
       "      <td>75</td>\n",
       "      <td>cardiothoracic</td>\n",
       "      <td>92.0</td>\n",
       "      <td>37.6</td>\n",
       "      <td>11.660875</td>\n",
       "      <td>25</td>\n",
       "      <td>0</td>\n",
       "      <td>1</td>\n",
       "      <td>secondary care/rehab</td>\n",
       "    </tr>\n",
       "  </tbody>\n",
       "</table>\n",
       "<p>500 rows × 11 columns</p>\n",
       "</div>"
      ],
      "text/plain": [
       "      ID     sex  age           surgery  heart rate  temperature  bilirubin  \\\n",
       "0      1  female   76             other        98.0         36.5   6.512142   \n",
       "1      2  female   60  gastrointestinal        80.0         38.1  14.523197   \n",
       "2      3    male   66    cardiothoracic        99.6         37.4  22.972480   \n",
       "3      4    male   74             other       110.0         39.1  19.299346   \n",
       "4      5  female   68             other        94.1         38.5  39.076485   \n",
       "..   ...     ...  ...               ...         ...          ...        ...   \n",
       "495  496    male   62    cardiothoracic       118.0         37.3  13.234537   \n",
       "496  497    male   67    cardiothoracic       115.0         38.0  10.740772   \n",
       "497  498  female   53    cardiothoracic       131.0         37.9  14.131188   \n",
       "498  499    male   68             other        86.9         36.0   9.596478   \n",
       "499  500    male   75    cardiothoracic        92.0         37.6  11.660875   \n",
       "\n",
       "     SAPS II  liver failure  LOS               outcome  \n",
       "0         57              0    1                  died  \n",
       "1         52              0    2                  home  \n",
       "2         57              0    1  secondary care/rehab  \n",
       "3         45              0    2                  home  \n",
       "4         49              0    1                  home  \n",
       "..       ...            ...  ...                   ...  \n",
       "495       33              0    1  secondary care/rehab  \n",
       "496       56              0    1                  died  \n",
       "497       38              0    3  secondary care/rehab  \n",
       "498       66              0    2                  home  \n",
       "499       25              0    1  secondary care/rehab  \n",
       "\n",
       "[500 rows x 11 columns]"
      ]
     },
     "execution_count": 1,
     "metadata": {},
     "output_type": "execute_result"
    }
   ],
   "source": [
    "import pandas as pd\n",
    "icu =pd.read_csv(\"ICUData.csv\")\n",
    "icu"
   ]
  },
  {
   "cell_type": "code",
   "execution_count": 2,
   "id": "25b94051",
   "metadata": {},
   "outputs": [
    {
     "name": "stdout",
     "output_type": "stream",
     "text": [
      "<class 'pandas.core.frame.DataFrame'>\n",
      "RangeIndex: 500 entries, 0 to 499\n",
      "Data columns (total 11 columns):\n",
      " #   Column         Non-Null Count  Dtype  \n",
      "---  ------         --------------  -----  \n",
      " 0   ID             500 non-null    int64  \n",
      " 1   sex            500 non-null    object \n",
      " 2   age            500 non-null    int64  \n",
      " 3   surgery        500 non-null    object \n",
      " 4   heart rate     500 non-null    float64\n",
      " 5   temperature    500 non-null    float64\n",
      " 6   bilirubin      500 non-null    float64\n",
      " 7   SAPS II        500 non-null    int64  \n",
      " 8   liver failure  500 non-null    int64  \n",
      " 9   LOS            500 non-null    int64  \n",
      " 10  outcome        500 non-null    object \n",
      "dtypes: float64(3), int64(5), object(3)\n",
      "memory usage: 43.1+ KB\n"
     ]
    }
   ],
   "source": [
    "icu.info()"
   ]
  },
  {
   "cell_type": "code",
   "execution_count": 3,
   "id": "21f71969",
   "metadata": {},
   "outputs": [
    {
     "data": {
      "text/plain": [
       "cardiothoracic      223\n",
       "other               121\n",
       "gastrointestinal     79\n",
       "neuro                46\n",
       "trauma               31\n",
       "Name: surgery, dtype: int64"
      ]
     },
     "execution_count": 3,
     "metadata": {},
     "output_type": "execute_result"
    }
   ],
   "source": [
    "icu[\"surgery\"].value_counts()   # her bir elemandan kaç tane  olduğunu value_counts ile buluruz. (frekans= tekrar etme sayısı)"
   ]
  },
  {
   "cell_type": "code",
   "execution_count": 4,
   "id": "13bf4365",
   "metadata": {},
   "outputs": [],
   "source": [
    "# bu sayılar hasta sayısına bölerek göreceli frekansları elde edilir."
   ]
  },
  {
   "cell_type": "code",
   "execution_count": 5,
   "id": "e09888a7",
   "metadata": {},
   "outputs": [
    {
     "data": {
      "text/plain": [
       "cardiothoracic      0.446\n",
       "other               0.242\n",
       "gastrointestinal    0.158\n",
       "neuro               0.092\n",
       "trauma              0.062\n",
       "Name: surgery, dtype: float64"
      ]
     },
     "execution_count": 5,
     "metadata": {},
     "output_type": "execute_result"
    }
   ],
   "source": [
    "icu[\"surgery\"].value_counts() / icu[\"surgery\"].size"
   ]
  },
  {
   "cell_type": "code",
   "execution_count": 6,
   "id": "8747a072",
   "metadata": {},
   "outputs": [
    {
     "data": {
      "text/plain": [
       "<AxesSubplot:>"
      ]
     },
     "execution_count": 6,
     "metadata": {},
     "output_type": "execute_result"
    },
    {
     "data": {
      "image/png": "[encoded data removed]",
      "text/plain": [
       "<Figure size 432x288 with 1 Axes>"
      ]
     },
     "metadata": {
      "needs_background": "light"
     },
     "output_type": "display_data"
    }
   ],
   "source": [
    "icu[\"surgery\"].value_counts().plot.bar()  # plot.bar()--> çubuk grafik gösterimi."
   ]
  },
  {
   "cell_type": "code",
   "execution_count": 7,
   "id": "6e7065b6",
   "metadata": {},
   "outputs": [
    {
     "data": {
      "text/plain": [
       "<AxesSubplot:>"
      ]
     },
     "execution_count": 7,
     "metadata": {},
     "output_type": "execute_result"
    },
    {
     "data": {
      "image/png": "[encoded data removed]",
      "text/plain": [
       "<Figure size 432x288 with 1 Axes>"
      ]
     },
     "metadata": {
      "needs_background": "light"
     },
     "output_type": "display_data"
    }
   ],
   "source": [
    "import matplotlib.pyplot as plt\n",
    "import seaborn as sns\n",
    "\n",
    "seri=icu[\"surgery\"].value_counts()\n",
    "#plt.bar(seri.index,seri.values)\n",
    "\n",
    "sns.barplot(x=seri.index , y=seri.values)\n"
   ]
  },
  {
   "cell_type": "code",
   "execution_count": 8,
   "id": "fedd24ab",
   "metadata": {},
   "outputs": [
    {
     "data": {
      "text/plain": [
       "<AxesSubplot:ylabel='surgery'>"
      ]
     },
     "execution_count": 8,
     "metadata": {},
     "output_type": "execute_result"
    },
    {
     "data": {
      "image/png": "[encoded data removed]",
      "text/plain": [
       "<Figure size 432x288 with 1 Axes>"
      ]
     },
     "metadata": {},
     "output_type": "display_data"
    }
   ],
   "source": [
    "icu[\"surgery\"].value_counts().plot.pie()   # plot.pie() ile pasta grafik çizdik."
   ]
  },
  {
   "cell_type": "code",
   "execution_count": 9,
   "id": "0a66392a",
   "metadata": {},
   "outputs": [
    {
     "data": {
      "text/plain": [
       "([<matplotlib.patches.Wedge at 0x28bda706a60>,\n",
       "  <matplotlib.patches.Wedge at 0x28bda716190>,\n",
       "  <matplotlib.patches.Wedge at 0x28bda7167f0>,\n",
       "  <matplotlib.patches.Wedge at 0x28bda716f10>,\n",
       "  <matplotlib.patches.Wedge at 0x28bda723670>],\n",
       " [Text(0.18571675588840653, 1.0842090603671812, 'cardiothoracic'),\n",
       "  Text(-1.0039607203868912, -0.4495140397365075, 'other'),\n",
       "  Text(0.11727235285359419, -1.09373086052108, 'gastrointestinal'),\n",
       "  Text(0.8563086003773247, -0.6904604122756259, 'neuro'),\n",
       "  Text(1.0791995897989533, -0.21290431037856275, 'trauma')],\n",
       " [Text(0.10130004866640356, 0.5913867602002806, '44.60'),\n",
       "  Text(-0.5476149383928497, -0.24518947621991316, '24.20'),\n",
       "  Text(0.06396673792014228, -0.5965804693751345, '15.80'),\n",
       "  Text(0.4670774183876316, -0.37661477033215957, '9.20'),\n",
       "  Text(0.5886543217085198, -0.1161296238428524, '6.20')])"
      ]
     },
     "execution_count": 9,
     "metadata": {},
     "output_type": "execute_result"
    },
    {
     "data": {
      "image/png": "[encoded data removed]",
      "text/plain": [
       "<Figure size 432x288 with 1 Axes>"
      ]
     },
     "metadata": {},
     "output_type": "display_data"
    }
   ],
   "source": [
    "plt.pie(x=seri.values , labels=seri.index , autopct=\"%.2f\")   # autopct=\"%.2f\" virgülden sonra 2 basamak gösterdi. dilimler yüde kaça tekamül ediyo."
   ]
  },
  {
   "cell_type": "code",
   "execution_count": 10,
   "id": "5b2dd4d2",
   "metadata": {},
   "outputs": [
    {
     "data": {
      "text/html": [
       "<div>\n",
       "<style scoped>\n",
       "    .dataframe tbody tr th:only-of-type {\n",
       "        vertical-align: middle;\n",
       "    }\n",
       "\n",
       "    .dataframe tbody tr th {\n",
       "        vertical-align: top;\n",
       "    }\n",
       "\n",
       "    .dataframe thead th {\n",
       "        text-align: right;\n",
       "    }\n",
       "</style>\n",
       "<table border=\"1\" class=\"dataframe\">\n",
       "  <thead>\n",
       "    <tr style=\"text-align: right;\">\n",
       "      <th></th>\n",
       "      <th>count</th>\n",
       "      <th>mean</th>\n",
       "      <th>std</th>\n",
       "      <th>min</th>\n",
       "      <th>25%</th>\n",
       "      <th>50%</th>\n",
       "      <th>75%</th>\n",
       "      <th>max</th>\n",
       "    </tr>\n",
       "  </thead>\n",
       "  <tbody>\n",
       "    <tr>\n",
       "      <th>ID</th>\n",
       "      <td>500.0</td>\n",
       "      <td>250.500000</td>\n",
       "      <td>144.481833</td>\n",
       "      <td>1.000000</td>\n",
       "      <td>125.750000</td>\n",
       "      <td>250.500000</td>\n",
       "      <td>375.250000</td>\n",
       "      <td>500.000000</td>\n",
       "    </tr>\n",
       "    <tr>\n",
       "      <th>age</th>\n",
       "      <td>500.0</td>\n",
       "      <td>63.060000</td>\n",
       "      <td>14.766601</td>\n",
       "      <td>18.000000</td>\n",
       "      <td>55.000000</td>\n",
       "      <td>66.000000</td>\n",
       "      <td>73.000000</td>\n",
       "      <td>98.000000</td>\n",
       "    </tr>\n",
       "    <tr>\n",
       "      <th>heart rate</th>\n",
       "      <td>500.0</td>\n",
       "      <td>107.414400</td>\n",
       "      <td>20.857983</td>\n",
       "      <td>59.200000</td>\n",
       "      <td>92.725000</td>\n",
       "      <td>104.000000</td>\n",
       "      <td>119.000000</td>\n",
       "      <td>186.000000</td>\n",
       "    </tr>\n",
       "    <tr>\n",
       "      <th>temperature</th>\n",
       "      <td>500.0</td>\n",
       "      <td>37.663200</td>\n",
       "      <td>1.735474</td>\n",
       "      <td>9.100000</td>\n",
       "      <td>36.900000</td>\n",
       "      <td>37.700000</td>\n",
       "      <td>38.400000</td>\n",
       "      <td>42.000000</td>\n",
       "    </tr>\n",
       "    <tr>\n",
       "      <th>bilirubin</th>\n",
       "      <td>500.0</td>\n",
       "      <td>25.744434</td>\n",
       "      <td>48.422056</td>\n",
       "      <td>3.679049</td>\n",
       "      <td>10.705027</td>\n",
       "      <td>15.312147</td>\n",
       "      <td>23.427203</td>\n",
       "      <td>647.304964</td>\n",
       "    </tr>\n",
       "    <tr>\n",
       "      <th>SAPS II</th>\n",
       "      <td>500.0</td>\n",
       "      <td>44.884000</td>\n",
       "      <td>17.224166</td>\n",
       "      <td>12.000000</td>\n",
       "      <td>31.000000</td>\n",
       "      <td>42.000000</td>\n",
       "      <td>57.000000</td>\n",
       "      <td>125.000000</td>\n",
       "    </tr>\n",
       "    <tr>\n",
       "      <th>liver failure</th>\n",
       "      <td>500.0</td>\n",
       "      <td>0.040000</td>\n",
       "      <td>0.196155</td>\n",
       "      <td>0.000000</td>\n",
       "      <td>0.000000</td>\n",
       "      <td>0.000000</td>\n",
       "      <td>0.000000</td>\n",
       "      <td>1.000000</td>\n",
       "    </tr>\n",
       "    <tr>\n",
       "      <th>LOS</th>\n",
       "      <td>500.0</td>\n",
       "      <td>5.290000</td>\n",
       "      <td>9.857802</td>\n",
       "      <td>1.000000</td>\n",
       "      <td>1.000000</td>\n",
       "      <td>1.000000</td>\n",
       "      <td>5.000000</td>\n",
       "      <td>105.000000</td>\n",
       "    </tr>\n",
       "  </tbody>\n",
       "</table>\n",
       "</div>"
      ],
      "text/plain": [
       "               count        mean         std        min         25%  \\\n",
       "ID             500.0  250.500000  144.481833   1.000000  125.750000   \n",
       "age            500.0   63.060000   14.766601  18.000000   55.000000   \n",
       "heart rate     500.0  107.414400   20.857983  59.200000   92.725000   \n",
       "temperature    500.0   37.663200    1.735474   9.100000   36.900000   \n",
       "bilirubin      500.0   25.744434   48.422056   3.679049   10.705027   \n",
       "SAPS II        500.0   44.884000   17.224166  12.000000   31.000000   \n",
       "liver failure  500.0    0.040000    0.196155   0.000000    0.000000   \n",
       "LOS            500.0    5.290000    9.857802   1.000000    1.000000   \n",
       "\n",
       "                      50%         75%         max  \n",
       "ID             250.500000  375.250000  500.000000  \n",
       "age             66.000000   73.000000   98.000000  \n",
       "heart rate     104.000000  119.000000  186.000000  \n",
       "temperature     37.700000   38.400000   42.000000  \n",
       "bilirubin       15.312147   23.427203  647.304964  \n",
       "SAPS II         42.000000   57.000000  125.000000  \n",
       "liver failure    0.000000    0.000000    1.000000  \n",
       "LOS              1.000000    5.000000  105.000000  "
      ]
     },
     "execution_count": 10,
     "metadata": {},
     "output_type": "execute_result"
    }
   ],
   "source": [
    "icu.describe().T  # sayısal alanlar hakkında bilgi verip transpoz aldık."
   ]
  },
  {
   "cell_type": "code",
   "execution_count": 11,
   "id": "97b6303a",
   "metadata": {},
   "outputs": [
    {
     "name": "stdout",
     "output_type": "stream",
     "text": [
      "[2, 4, 6, 8, 10, 12, 14, 16, 18, 20]\n",
      "[2, 4, 6, 8, 10, 12, 14, 16, 18, 20]\n",
      "[2, 4, 6, 8, 10, 12, 14, 16, 18, 20]\n"
     ]
    }
   ],
   "source": [
    "import numpy as np\n",
    "\n",
    "a=list(range(2,22,2))\n",
    "b=[*range(2,22,2)]\n",
    "c=np.arange(2,22,2).tolist()\n",
    "\n",
    "print(a)\n",
    "print(b)\n",
    "print(c)"
   ]
  },
  {
   "cell_type": "code",
   "execution_count": 12,
   "id": "7e18fd92",
   "metadata": {},
   "outputs": [
    {
     "data": {
      "text/plain": [
       "5.6"
      ]
     },
     "execution_count": 12,
     "metadata": {},
     "output_type": "execute_result"
    }
   ],
   "source": [
    "np.quantile(a , 0.2)  #[2, 4, 6, 8, ..., 20] gibi bir listede %20'lik yüzdelik dilimi hesaplar ve bu dilimin alt sınırındaki değeri döndürür"
   ]
  },
  {
   "cell_type": "code",
   "execution_count": 13,
   "id": "9a8ef421",
   "metadata": {},
   "outputs": [
    {
     "data": {
      "text/plain": [
       "42.0"
      ]
     },
     "execution_count": 13,
     "metadata": {},
     "output_type": "execute_result"
    }
   ],
   "source": [
    "np.quantile(icu[\"SAPS II\"], 0.5)"
   ]
  },
  {
   "cell_type": "code",
   "execution_count": 14,
   "id": "9bcb8e51",
   "metadata": {},
   "outputs": [],
   "source": [
    "#IQR birinci çeyrek ile üçüncü çeyrek arası fark "
   ]
  },
  {
   "cell_type": "code",
   "execution_count": 15,
   "id": "942ffd69",
   "metadata": {},
   "outputs": [
    {
     "data": {
      "text/plain": [
       "26.0"
      ]
     },
     "execution_count": 15,
     "metadata": {},
     "output_type": "execute_result"
    }
   ],
   "source": [
    "from scipy.stats import iqr   # iqr bulmak için kullandığımız kütüphane\n",
    "iqr (icu[\"SAPS II\"])"
   ]
  },
  {
   "cell_type": "code",
   "execution_count": null,
   "id": "40a695a8",
   "metadata": {},
   "outputs": [],
   "source": []
  },
  {
   "cell_type": "code",
   "execution_count": 16,
   "id": "faf8421c",
   "metadata": {},
   "outputs": [
    {
     "data": {
      "text/plain": [
       "13.0"
      ]
     },
     "execution_count": 16,
     "metadata": {},
     "output_type": "execute_result"
    }
   ],
   "source": [
    "from scipy.stats import median_abs_deviation   # median_abs_deviation, bir veri kümesinin ortanca mutlak sapmasını hesaplamak için kullanılır.\n",
    "\n",
    "median_abs_deviation(icu[\"SAPS II\"])  #\"SAPS II\" adlı bir sütundaki veri kümesinin ortanca mutlak sapmasını hesaplar. "
   ]
  },
  {
   "cell_type": "code",
   "execution_count": 17,
   "id": "e467b133",
   "metadata": {},
   "outputs": [
    {
     "data": {
      "text/plain": [
       "<AxesSubplot:>"
      ]
     },
     "execution_count": 17,
     "metadata": {},
     "output_type": "execute_result"
    },
    {
     "data": {
      "image/png": "[encoded data removed]",
      "text/plain": [
       "<Figure size 432x288 with 1 Axes>"
      ]
     },
     "metadata": {
      "needs_background": "light"
     },
     "output_type": "display_data"
    }
   ],
   "source": [
    "icu[\"SAPS II\"].plot.box()  #\"SAPS II\" sütunundaki veri kümesinin dağılımını ve istatistiksel özelliklerini görsel bir şekilde incelemek için kullanılır. Kutu grafiği, veri setindeki merkezi eğilimi, değişkenliği ve olası aykırı değerleri hızlı bir şekilde anlamak için yaygın olarak kullanılan bir araçtır."
   ]
  },
  {
   "cell_type": "code",
   "execution_count": 18,
   "id": "ce6743b0",
   "metadata": {},
   "outputs": [
    {
     "name": "stderr",
     "output_type": "stream",
     "text": [
      "C:\\Users\\Gamze\\anaconda3\\lib\\site-packages\\seaborn\\_decorators.py:36: FutureWarning: Pass the following variable as a keyword arg: x. From version 0.12, the only valid positional argument will be `data`, and passing other arguments without an explicit keyword will result in an error or misinterpretation.\n",
      "  warnings.warn(\n"
     ]
    },
    {
     "data": {
      "text/plain": [
       "<AxesSubplot:xlabel='SAPS II'>"
      ]
     },
     "execution_count": 18,
     "metadata": {},
     "output_type": "execute_result"
    },
    {
     "data": {
      "image/png": "[encoded data removed]",
      "text/plain": [
       "<Figure size 432x288 with 1 Axes>"
      ]
     },
     "metadata": {
      "needs_background": "light"
     },
     "output_type": "display_data"
    }
   ],
   "source": [
    "plt.boxplot(icu[\"SAPS II\"])\n",
    "sns.boxplot(icu[\"SAPS II\"])"
   ]
  },
  {
   "cell_type": "code",
   "execution_count": 19,
   "id": "bb71d47c",
   "metadata": {},
   "outputs": [
    {
     "name": "stdout",
     "output_type": "stream",
     "text": [
      "Requirement already satisfied: plotly in c:\\users\\gamze\\anaconda3\\lib\\site-packages (5.6.0)\n",
      "Requirement already satisfied: six in c:\\users\\gamze\\anaconda3\\lib\\site-packages (from plotly) (1.16.0)\n",
      "Requirement already satisfied: tenacity>=6.2.0 in c:\\users\\gamze\\anaconda3\\lib\\site-packages (from plotly) (8.2.3)\n"
     ]
    }
   ],
   "source": [
    "!pip install plotly"
   ]
  },
  {
   "cell_type": "code",
   "execution_count": 20,
   "id": "e470f7bf",
   "metadata": {},
   "outputs": [
    {
     "ename": "SyntaxError",
     "evalue": "invalid syntax (2075693058.py, line 1)",
     "output_type": "error",
     "traceback": [
      "\u001b[1;36m  Input \u001b[1;32mIn [20]\u001b[1;36m\u001b[0m\n\u001b[1;33m    import plotly express as px\u001b[0m\n\u001b[1;37m                  ^\u001b[0m\n\u001b[1;31mSyntaxError\u001b[0m\u001b[1;31m:\u001b[0m invalid syntax\n"
     ]
    }
   ],
   "source": [
    "import plotly express as px    \n",
    "px.box(y=icu[\"SAPS II\"])\n",
    "\"\"\"\"SAPS II\" sütunundaki veri kümesinin dağılımını görselleştirmek için bir kutu grafiği oluşturur. plotly express'in interaktif özellikleri sayesinde, grafiği yakınlaştırma, kaydırma ve çeşitli öğeleri gösterme gibi etkileşimli özellikleri kullanabilirsiniz. Bu, veri setinin istatistiksel özelliklerini ve olası aykırı değerleri daha ayrıntılı bir şekilde incelemenize yardımcı olabilir.\n",
    "\"\"\"\n"
   ]
  },
  {
   "cell_type": "code",
   "execution_count": null,
   "id": "726b1553",
   "metadata": {},
   "outputs": [],
   "source": [
    "# örnek 1\n",
    "list1= list(range(2,22,2))\n",
    "list1."
   ]
  },
  {
   "cell_type": "code",
   "execution_count": 21,
   "id": "ae23b490",
   "metadata": {},
   "outputs": [
    {
     "data": {
      "text/plain": [
       "<AxesSubplot:xlabel='SAPS II', ylabel='Proportion'>"
      ]
     },
     "execution_count": 21,
     "metadata": {},
     "output_type": "execute_result"
    },
    {
     "data": {
      "image/png": "[encoded data removed]",
      "text/plain": [
       "<Figure size 432x288 with 1 Axes>"
      ]
     },
     "metadata": {
      "needs_background": "light"
     },
     "output_type": "display_data"
    }
   ],
   "source": [
    "import seaborn as sns\n",
    "\n",
    "sns.ecdfplot(data=icu, x=\"SAPS II\")   #sns.ecdfplot(data=icu, x=\"SAPS II\"): Bu satır, seaborn kütüphanesinin ecdfplot fonksiyonunu kullanarak kümülatif dağılım fonksiyonu grafiğini çizer. data parametresi, çizim yapılacak olan veri setini belirtir (icu DataFrame'i), x parametresi ise grafiğin x-eksenine hangi sütunu kullanacağını belirtir (\"SAPS II\" sütunu)."
   ]
  },
  {
   "cell_type": "code",
   "execution_count": 22,
   "id": "a3f55350",
   "metadata": {},
   "outputs": [
    {
     "data": {
      "text/html": [
       "<div>\n",
       "<style scoped>\n",
       "    .dataframe tbody tr th:only-of-type {\n",
       "        vertical-align: middle;\n",
       "    }\n",
       "\n",
       "    .dataframe tbody tr th {\n",
       "        vertical-align: top;\n",
       "    }\n",
       "\n",
       "    .dataframe thead th {\n",
       "        text-align: right;\n",
       "    }\n",
       "</style>\n",
       "<table border=\"1\" class=\"dataframe\">\n",
       "  <thead>\n",
       "    <tr style=\"text-align: right;\">\n",
       "      <th>surgery</th>\n",
       "      <th>cardiothoracic</th>\n",
       "      <th>gastrointestinal</th>\n",
       "      <th>neuro</th>\n",
       "      <th>other</th>\n",
       "      <th>trauma</th>\n",
       "    </tr>\n",
       "    <tr>\n",
       "      <th>sex</th>\n",
       "      <th></th>\n",
       "      <th></th>\n",
       "      <th></th>\n",
       "      <th></th>\n",
       "      <th></th>\n",
       "    </tr>\n",
       "  </thead>\n",
       "  <tbody>\n",
       "    <tr>\n",
       "      <th>female</th>\n",
       "      <td>61</td>\n",
       "      <td>31</td>\n",
       "      <td>19</td>\n",
       "      <td>57</td>\n",
       "      <td>7</td>\n",
       "    </tr>\n",
       "    <tr>\n",
       "      <th>male</th>\n",
       "      <td>162</td>\n",
       "      <td>48</td>\n",
       "      <td>27</td>\n",
       "      <td>64</td>\n",
       "      <td>24</td>\n",
       "    </tr>\n",
       "  </tbody>\n",
       "</table>\n",
       "</div>"
      ],
      "text/plain": [
       "surgery  cardiothoracic  gastrointestinal  neuro  other  trauma\n",
       "sex                                                            \n",
       "female               61                31     19     57       7\n",
       "male                162                48     27     64      24"
      ]
     },
     "execution_count": 22,
     "metadata": {},
     "output_type": "execute_result"
    }
   ],
   "source": [
    "pd.crosstab(icu['sex'], icu['surgery'])"
   ]
  },
  {
   "cell_type": "code",
   "execution_count": null,
   "id": "bca43a14",
   "metadata": {},
   "outputs": [],
   "source": []
  }
 ],
 "metadata": {
  "kernelspec": {
   "display_name": "Python 3 (ipykernel)",
   "language": "python",
   "name": "python3"
  },
  "language_info": {
   "codemirror_mode": {
    "name": "ipython",
    "version": 3
   },
   "file_extension": ".py",
   "mimetype": "text/x-python",
   "name": "python",
   "nbconvert_exporter": "python",
   "pygments_lexer": "ipython3",
   "version": "3.9.12"
  }
 },
 "nbformat": 4,
 "nbformat_minor": 5
}
