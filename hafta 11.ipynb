{
 "cells": [
  {
   "cell_type": "code",
   "execution_count": 8,
   "id": "6712c01a",
   "metadata": {},
   "outputs": [],
   "source": [
    "import numpy as np\n",
    "\n",
    "x = np.random.normal(loc=0.5, scale=1, size=20)   # loc--> ortalamayı gösteriyor , scale--> standart sapmayı veriyor , size--> veri sayısı\n",
    "y = np.random.normal(loc=1.5, scale=1, size=20)"
   ]
  },
  {
   "cell_type": "code",
   "execution_count": 11,
   "id": "1c087588",
   "metadata": {},
   "outputs": [
    {
     "data": {
      "text/plain": [
       "ShapiroResult(statistic=0.9623399376869202, pvalue=0.5915824174880981)"
      ]
     },
     "execution_count": 11,
     "metadata": {},
     "output_type": "execute_result"
    }
   ],
   "source": [
    "import scipy.stats as sts\n",
    "sts.shapiro(x)   # p>loc olduğu için h0 hipotezi reddedilemz. ve normal dağılmakta.\n"
   ]
  },
  {
   "cell_type": "code",
   "execution_count": 10,
   "id": "6bd49cc6",
   "metadata": {},
   "outputs": [
    {
     "data": {
      "text/plain": [
       "ShapiroResult(statistic=0.9334745407104492, pvalue=0.18007685244083405)"
      ]
     },
     "execution_count": 10,
     "metadata": {},
     "output_type": "execute_result"
    }
   ],
   "source": [
    "sts.shapiro(y)"
   ]
  },
  {
   "cell_type": "code",
   "execution_count": 12,
   "id": "110f6ae8",
   "metadata": {},
   "outputs": [
    {
     "data": {
      "text/plain": [
       "(0.13367920838900843, 0.4526085192851456)"
      ]
     },
     "execution_count": 12,
     "metadata": {},
     "output_type": "execute_result"
    }
   ],
   "source": [
    "from statsmodels.stats.diagnostic import lilliefors\n",
    "lilliefors(x,pvalmethod=\"approx\")\n",
    "lilliefors(y,pvalmethod=\"approx\")"
   ]
  },
  {
   "cell_type": "code",
   "execution_count": null,
   "id": "27803386",
   "metadata": {},
   "outputs": [],
   "source": [
    "import sfrancia as sf\n",
    "sf.shapiroFrancia(x)\n",
    "sf.shapiroFrancia(y)"
   ]
  },
  {
   "cell_type": "code",
   "execution_count": 2,
   "id": "b930aa74",
   "metadata": {},
   "outputs": [
    {
     "data": {
      "text/plain": [
       "Ttest_indResult(statistic=-0.3272704646377424, pvalue=0.7452594491906743)"
      ]
     },
     "execution_count": 2,
     "metadata": {},
     "output_type": "execute_result"
    }
   ],
   "source": [
    "\n",
    "sts.ttest_ind(x , y , equal_var= True)  # equal_var= varyansları eşit demek "
   ]
  },
  {
   "cell_type": "code",
   "execution_count": null,
   "id": "6daccdf8",
   "metadata": {},
   "outputs": [],
   "source": [
    "\"\"\"\n",
    "normal dağılıma uyup uymadığını kontrol etme \n",
    "1.Shapiro- Wilk test\n",
    "2.lilliefors\n",
    "3.shapiro-Francia normality test (kurmaya gerek yok dendi.)\n",
    "\"\"\""
   ]
  },
  {
   "cell_type": "code",
   "execution_count": 14,
   "id": "752bcff5",
   "metadata": {
    "collapsed": true
   },
   "outputs": [
    {
     "name": "stdout",
     "output_type": "stream",
     "text": [
      "Collecting package metadata (current_repodata.json): ...working... done\n",
      "Solving environment: ...working... done\n",
      "\n",
      "## Package Plan ##\n",
      "\n",
      "  environment location: C:\\Users\\Gamze\\anaconda3\n",
      "\n",
      "  added / updated specs:\n",
      "    - pingouin\n",
      "\n",
      "\n",
      "The following packages will be downloaded:\n",
      "\n",
      "    package                    |            build\n",
      "    ---------------------------|-----------------\n",
      "    conda-4.14.0               |   py39hcbf5309_0         1.0 MB  conda-forge\n",
      "    littleutils-0.2.2          |             py_0          10 KB  conda-forge\n",
      "    outdated-0.2.2             |     pyhd8ed1ab_0          11 KB  conda-forge\n",
      "    pandas-flavor-0.6.0        |     pyhd8ed1ab_1          12 KB  conda-forge\n",
      "    pingouin-0.5.3             |     pyhd8ed1ab_0         158 KB  conda-forge\n",
      "    ------------------------------------------------------------\n",
      "                                           Total:         1.2 MB\n",
      "\n",
      "The following NEW packages will be INSTALLED:\n",
      "\n",
      "  littleutils        conda-forge/noarch::littleutils-0.2.2-py_0\n",
      "  outdated           conda-forge/noarch::outdated-0.2.2-pyhd8ed1ab_0\n",
      "  pandas-flavor      conda-forge/noarch::pandas-flavor-0.6.0-pyhd8ed1ab_1\n",
      "  pingouin           conda-forge/noarch::pingouin-0.5.3-pyhd8ed1ab_0\n",
      "  python_abi         conda-forge/win-64::python_abi-3.9-2_cp39\n",
      "\n",
      "The following packages will be UPDATED:\n",
      "\n",
      "  conda              pkgs/main::conda-4.12.0-py39haa95532_0 --> conda-forge::conda-4.14.0-py39hcbf5309_0\n",
      "\n",
      "\n",
      "\n",
      "Downloading and Extracting Packages\n",
      "\n",
      "pandas-flavor-0.6.0  | 12 KB     |            |   0% \n",
      "pandas-flavor-0.6.0  | 12 KB     | ########## | 100% \n",
      "pandas-flavor-0.6.0  | 12 KB     | ########## | 100% \n",
      "\n",
      "littleutils-0.2.2    | 10 KB     |            |   0% \n",
      "littleutils-0.2.2    | 10 KB     | ########## | 100% \n",
      "littleutils-0.2.2    | 10 KB     | ########## | 100% \n",
      "\n",
      "pingouin-0.5.3       | 158 KB    |            |   0% \n",
      "pingouin-0.5.3       | 158 KB    | #          |  10% \n",
      "pingouin-0.5.3       | 158 KB    | ########   |  81% \n",
      "pingouin-0.5.3       | 158 KB    | ########## | 100% \n",
      "\n",
      "outdated-0.2.2       | 11 KB     |            |   0% \n",
      "outdated-0.2.2       | 11 KB     | ########## | 100% \n",
      "outdated-0.2.2       | 11 KB     | ########## | 100% \n",
      "\n",
      "conda-4.14.0         | 1.0 MB    |            |   0% \n",
      "conda-4.14.0         | 1.0 MB    | 1          |   2% \n",
      "conda-4.14.0         | 1.0 MB    | #####3     |  54% \n",
      "conda-4.14.0         | 1.0 MB    | ########7  |  87% \n",
      "conda-4.14.0         | 1.0 MB    | ########## | 100% \n",
      "Preparing transaction: ...working... done\n",
      "Verifying transaction: ...working... done\n",
      "Executing transaction: ...working... done\n",
      "\n",
      "Note: you may need to restart the kernel to use updated packages.\n"
     ]
    },
    {
     "name": "stderr",
     "output_type": "stream",
     "text": [
      "\n",
      "\n",
      "==> WARNING: A newer version of conda exists. <==\n",
      "  current version: 4.12.0\n",
      "  latest version: 23.11.0\n",
      "\n",
      "Please update conda by running\n",
      "\n",
      "    $ conda update -n base -c defaults conda\n",
      "\n",
      "\n"
     ]
    }
   ],
   "source": [
    "#conda install -c conda-forge pingouin"
   ]
  },
  {
   "cell_type": "code",
   "execution_count": 15,
   "id": "24dd93a3",
   "metadata": {},
   "outputs": [
    {
     "data": {
      "text/html": [
       "<div>\n",
       "<style scoped>\n",
       "    .dataframe tbody tr th:only-of-type {\n",
       "        vertical-align: middle;\n",
       "    }\n",
       "\n",
       "    .dataframe tbody tr th {\n",
       "        vertical-align: top;\n",
       "    }\n",
       "\n",
       "    .dataframe thead th {\n",
       "        text-align: right;\n",
       "    }\n",
       "</style>\n",
       "<table border=\"1\" class=\"dataframe\">\n",
       "  <thead>\n",
       "    <tr style=\"text-align: right;\">\n",
       "      <th></th>\n",
       "      <th>T</th>\n",
       "      <th>dof</th>\n",
       "      <th>alternative</th>\n",
       "      <th>p-val</th>\n",
       "      <th>CI95%</th>\n",
       "      <th>cohen-d</th>\n",
       "      <th>BF10</th>\n",
       "      <th>power</th>\n",
       "    </tr>\n",
       "  </thead>\n",
       "  <tbody>\n",
       "    <tr>\n",
       "      <th>T-test</th>\n",
       "      <td>-2.681586</td>\n",
       "      <td>35.833684</td>\n",
       "      <td>two-sided</td>\n",
       "      <td>0.011008</td>\n",
       "      <td>[-1.76, -0.24]</td>\n",
       "      <td>0.847992</td>\n",
       "      <td>4.685</td>\n",
       "      <td>0.743229</td>\n",
       "    </tr>\n",
       "  </tbody>\n",
       "</table>\n",
       "</div>"
      ],
      "text/plain": [
       "               T        dof alternative     p-val           CI95%   cohen-d   BF10     power\n",
       "T-test -2.681586  35.833684   two-sided  0.011008  [-1.76, -0.24]  0.847992  4.685  0.743229"
      ]
     },
     "execution_count": 15,
     "metadata": {},
     "output_type": "execute_result"
    }
   ],
   "source": [
    "import pingouin as pg\n",
    "pg.ttest(x,y,correction=True)"
   ]
  },
  {
   "cell_type": "code",
   "execution_count": null,
   "id": "f2628d75",
   "metadata": {},
   "outputs": [],
   "source": [
    "# t test ve türevleri\n",
    "#1. one-sample t test\n",
    "#2.paired t test\n",
    "#3. two sample t test\n",
    "#4. welch t test  # varyanslar varklıysa  equal_var=false"
   ]
  },
  {
   "cell_type": "code",
   "execution_count": 16,
   "id": "9dbc4c78",
   "metadata": {},
   "outputs": [
    {
     "data": {
      "text/html": [
       "<div>\n",
       "<style scoped>\n",
       "    .dataframe tbody tr th:only-of-type {\n",
       "        vertical-align: middle;\n",
       "    }\n",
       "\n",
       "    .dataframe tbody tr th {\n",
       "        vertical-align: top;\n",
       "    }\n",
       "\n",
       "    .dataframe thead th {\n",
       "        text-align: right;\n",
       "    }\n",
       "</style>\n",
       "<table border=\"1\" class=\"dataframe\">\n",
       "  <thead>\n",
       "    <tr style=\"text-align: right;\">\n",
       "      <th></th>\n",
       "      <th>ID</th>\n",
       "      <th>sex</th>\n",
       "      <th>age</th>\n",
       "      <th>surgery</th>\n",
       "      <th>heart rate</th>\n",
       "      <th>temperature</th>\n",
       "      <th>bilirubin</th>\n",
       "      <th>SAPS II</th>\n",
       "      <th>liver failure</th>\n",
       "      <th>LOS</th>\n",
       "      <th>outcome</th>\n",
       "    </tr>\n",
       "  </thead>\n",
       "  <tbody>\n",
       "    <tr>\n",
       "      <th>0</th>\n",
       "      <td>1</td>\n",
       "      <td>female</td>\n",
       "      <td>76</td>\n",
       "      <td>other</td>\n",
       "      <td>98.0</td>\n",
       "      <td>36.5</td>\n",
       "      <td>6.512142</td>\n",
       "      <td>57</td>\n",
       "      <td>0</td>\n",
       "      <td>1</td>\n",
       "      <td>died</td>\n",
       "    </tr>\n",
       "    <tr>\n",
       "      <th>1</th>\n",
       "      <td>2</td>\n",
       "      <td>female</td>\n",
       "      <td>60</td>\n",
       "      <td>gastrointestinal</td>\n",
       "      <td>80.0</td>\n",
       "      <td>38.1</td>\n",
       "      <td>14.523197</td>\n",
       "      <td>52</td>\n",
       "      <td>0</td>\n",
       "      <td>2</td>\n",
       "      <td>home</td>\n",
       "    </tr>\n",
       "    <tr>\n",
       "      <th>2</th>\n",
       "      <td>3</td>\n",
       "      <td>male</td>\n",
       "      <td>66</td>\n",
       "      <td>cardiothoracic</td>\n",
       "      <td>99.6</td>\n",
       "      <td>37.4</td>\n",
       "      <td>22.972480</td>\n",
       "      <td>57</td>\n",
       "      <td>0</td>\n",
       "      <td>1</td>\n",
       "      <td>secondary care/rehab</td>\n",
       "    </tr>\n",
       "    <tr>\n",
       "      <th>3</th>\n",
       "      <td>4</td>\n",
       "      <td>male</td>\n",
       "      <td>74</td>\n",
       "      <td>other</td>\n",
       "      <td>110.0</td>\n",
       "      <td>39.1</td>\n",
       "      <td>19.299346</td>\n",
       "      <td>45</td>\n",
       "      <td>0</td>\n",
       "      <td>2</td>\n",
       "      <td>home</td>\n",
       "    </tr>\n",
       "    <tr>\n",
       "      <th>4</th>\n",
       "      <td>5</td>\n",
       "      <td>female</td>\n",
       "      <td>68</td>\n",
       "      <td>other</td>\n",
       "      <td>94.1</td>\n",
       "      <td>38.5</td>\n",
       "      <td>39.076485</td>\n",
       "      <td>49</td>\n",
       "      <td>0</td>\n",
       "      <td>1</td>\n",
       "      <td>home</td>\n",
       "    </tr>\n",
       "    <tr>\n",
       "      <th>...</th>\n",
       "      <td>...</td>\n",
       "      <td>...</td>\n",
       "      <td>...</td>\n",
       "      <td>...</td>\n",
       "      <td>...</td>\n",
       "      <td>...</td>\n",
       "      <td>...</td>\n",
       "      <td>...</td>\n",
       "      <td>...</td>\n",
       "      <td>...</td>\n",
       "      <td>...</td>\n",
       "    </tr>\n",
       "    <tr>\n",
       "      <th>495</th>\n",
       "      <td>496</td>\n",
       "      <td>male</td>\n",
       "      <td>62</td>\n",
       "      <td>cardiothoracic</td>\n",
       "      <td>118.0</td>\n",
       "      <td>37.3</td>\n",
       "      <td>13.234537</td>\n",
       "      <td>33</td>\n",
       "      <td>0</td>\n",
       "      <td>1</td>\n",
       "      <td>secondary care/rehab</td>\n",
       "    </tr>\n",
       "    <tr>\n",
       "      <th>496</th>\n",
       "      <td>497</td>\n",
       "      <td>male</td>\n",
       "      <td>67</td>\n",
       "      <td>cardiothoracic</td>\n",
       "      <td>115.0</td>\n",
       "      <td>38.0</td>\n",
       "      <td>10.740772</td>\n",
       "      <td>56</td>\n",
       "      <td>0</td>\n",
       "      <td>1</td>\n",
       "      <td>died</td>\n",
       "    </tr>\n",
       "    <tr>\n",
       "      <th>497</th>\n",
       "      <td>498</td>\n",
       "      <td>female</td>\n",
       "      <td>53</td>\n",
       "      <td>cardiothoracic</td>\n",
       "      <td>131.0</td>\n",
       "      <td>37.9</td>\n",
       "      <td>14.131188</td>\n",
       "      <td>38</td>\n",
       "      <td>0</td>\n",
       "      <td>3</td>\n",
       "      <td>secondary care/rehab</td>\n",
       "    </tr>\n",
       "    <tr>\n",
       "      <th>498</th>\n",
       "      <td>499</td>\n",
       "      <td>male</td>\n",
       "      <td>68</td>\n",
       "      <td>other</td>\n",
       "      <td>86.9</td>\n",
       "      <td>36.0</td>\n",
       "      <td>9.596478</td>\n",
       "      <td>66</td>\n",
       "      <td>0</td>\n",
       "      <td>2</td>\n",
       "      <td>home</td>\n",
       "    </tr>\n",
       "    <tr>\n",
       "      <th>499</th>\n",
       "      <td>500</td>\n",
       "      <td>male</td>\n",
       "      <td>75</td>\n",
       "      <td>cardiothoracic</td>\n",
       "      <td>92.0</td>\n",
       "      <td>37.6</td>\n",
       "      <td>11.660875</td>\n",
       "      <td>25</td>\n",
       "      <td>0</td>\n",
       "      <td>1</td>\n",
       "      <td>secondary care/rehab</td>\n",
       "    </tr>\n",
       "  </tbody>\n",
       "</table>\n",
       "<p>500 rows × 11 columns</p>\n",
       "</div>"
      ],
      "text/plain": [
       "      ID     sex  age           surgery  heart rate  ...  bilirubin  SAPS II  liver failure  LOS               outcome\n",
       "0      1  female   76             other        98.0  ...   6.512142       57              0    1                  died\n",
       "1      2  female   60  gastrointestinal        80.0  ...  14.523197       52              0    2                  home\n",
       "2      3    male   66    cardiothoracic        99.6  ...  22.972480       57              0    1  secondary care/rehab\n",
       "3      4    male   74             other       110.0  ...  19.299346       45              0    2                  home\n",
       "4      5  female   68             other        94.1  ...  39.076485       49              0    1                  home\n",
       "..   ...     ...  ...               ...         ...  ...        ...      ...            ...  ...                   ...\n",
       "495  496    male   62    cardiothoracic       118.0  ...  13.234537       33              0    1  secondary care/rehab\n",
       "496  497    male   67    cardiothoracic       115.0  ...  10.740772       56              0    1                  died\n",
       "497  498  female   53    cardiothoracic       131.0  ...  14.131188       38              0    3  secondary care/rehab\n",
       "498  499    male   68             other        86.9  ...   9.596478       66              0    2                  home\n",
       "499  500    male   75    cardiothoracic        92.0  ...  11.660875       25              0    1  secondary care/rehab\n",
       "\n",
       "[500 rows x 11 columns]"
      ]
     },
     "execution_count": 16,
     "metadata": {},
     "output_type": "execute_result"
    }
   ],
   "source": [
    "import pandas as pd\n",
    "icu=pd.read_csv(\"ICUData.csv\")\n",
    "icu"
   ]
  },
  {
   "cell_type": "code",
   "execution_count": null,
   "id": "3d6a00a9",
   "metadata": {},
   "outputs": [],
   "source": [
    "#H0: mü<=37,5\n",
    "#h1: mü>37,5"
   ]
  },
  {
   "cell_type": "code",
   "execution_count": 18,
   "id": "86c631aa",
   "metadata": {},
   "outputs": [
    {
     "data": {
      "text/plain": [
       "Ttest_1sampResult(statistic=4.197348728151364, pvalue=1.59934647255863e-05)"
      ]
     },
     "execution_count": 18,
     "metadata": {},
     "output_type": "execute_result"
    }
   ],
   "source": [
    "from scipy import stats\n",
    "data=icu.temperature.drop(397)\n",
    "stats.ttest_1samp(data , popmean=37.5 , alternative=\"greater\")    #    h0 reddediliyor (h0"
   ]
  },
  {
   "cell_type": "code",
   "execution_count": null,
   "id": "8bbc26b5",
   "metadata": {},
   "outputs": [],
   "source": [
    "import pingouin as pg\n",
    "pg.ttest(data, 37.5, alternative=\"greater\")"
   ]
  },
  {
   "cell_type": "code",
   "execution_count": null,
   "id": "5de09479",
   "metadata": {},
   "outputs": [],
   "source": [
    "stats.ttest_1samp(icu.temperature, popmean=37.5, alternative=\"greater\")"
   ]
  },
  {
   "cell_type": "code",
   "execution_count": null,
   "id": "7d75fb6e",
   "metadata": {},
   "outputs": [],
   "source": [
    "sts.shapiro(icu[icu.sex == \"female\"].temperature)\n",
    "sts.shapiro(icu.drop(397)[icu.drop(397).sex == \"male\"].temperature)"
   ]
  },
  {
   "cell_type": "code",
   "execution_count": null,
   "id": "efcd03ee",
   "metadata": {},
   "outputs": [],
   "source": [
    "# kadınlarda normal dağılım varken erkolarda yok"
   ]
  },
  {
   "cell_type": "code",
   "execution_count": 25,
   "id": "6ff885dd",
   "metadata": {},
   "outputs": [
    {
     "data": {
      "text/plain": [
       "ShapiroResult(statistic=0.9895926117897034, pvalue=0.22945214807987213)"
      ]
     },
     "execution_count": 25,
     "metadata": {},
     "output_type": "execute_result"
    }
   ],
   "source": [
    "#sts.shapiro(icu[icu.sex==\"female\"].temperature)"
   ]
  },
  {
   "cell_type": "code",
   "execution_count": 24,
   "id": "b13a53ae",
   "metadata": {},
   "outputs": [
    {
     "data": {
      "text/plain": [
       "ShapiroResult(statistic=0.4987919330596924, pvalue=2.749829232901174e-29)"
      ]
     },
     "execution_count": 24,
     "metadata": {},
     "output_type": "execute_result"
    }
   ],
   "source": [
    "#sts.shapiro(icu[icu.sex==\"male\"].temperature)"
   ]
  },
  {
   "cell_type": "code",
   "execution_count": 27,
   "id": "6890f36c",
   "metadata": {
    "scrolled": true
   },
   "outputs": [
    {
     "name": "stderr",
     "output_type": "stream",
     "text": [
      "C:\\Users\\Gamze\\AppData\\Local\\Temp\\ipykernel_13452\\2669864502.py:1: UserWarning: Boolean Series key will be reindexed to match DataFrame index.\n",
      "  sts.shapiro(icu.drop(397)[icu.sex==\"male\"].temperature)\n"
     ]
    },
    {
     "data": {
      "text/plain": [
       "ShapiroResult(statistic=0.9879987835884094, pvalue=0.00882911216467619)"
      ]
     },
     "execution_count": 27,
     "metadata": {},
     "output_type": "execute_result"
    }
   ],
   "source": [
    "#sts.shapiro(icu.drop(397)[icu.sex==\"male\"].temperature)"
   ]
  },
  {
   "cell_type": "code",
   "execution_count": 26,
   "id": "d287afd3",
   "metadata": {},
   "outputs": [
    {
     "data": {
      "text/plain": [
       "1.5743588571428573"
      ]
     },
     "execution_count": 26,
     "metadata": {},
     "output_type": "execute_result"
    }
   ],
   "source": [
    "np.var(icu[icu.sex==\"female\"].temperature)"
   ]
  },
  {
   "cell_type": "code",
   "execution_count": 21,
   "id": "bd681a21",
   "metadata": {},
   "outputs": [
    {
     "data": {
      "text/plain": [
       "3.7756199763313587"
      ]
     },
     "execution_count": 21,
     "metadata": {},
     "output_type": "execute_result"
    }
   ],
   "source": [
    "np.var(icu[icu.sex==\"male\"].temperature)"
   ]
  },
  {
   "cell_type": "code",
   "execution_count": null,
   "id": "3879a031",
   "metadata": {},
   "outputs": [],
   "source": [
    "np.var(icu.drop(397)[icu.drop(397).sex == \"male\"].temperature)"
   ]
  },
  {
   "cell_type": "code",
   "execution_count": 28,
   "id": "eebf602f",
   "metadata": {},
   "outputs": [
    {
     "data": {
      "text/plain": [
       "Ttest_indResult(statistic=-0.3763844542391408, pvalue=0.7067968223676342)"
      ]
     },
     "execution_count": 28,
     "metadata": {},
     "output_type": "execute_result"
    }
   ],
   "source": [
    "sts.ttest_ind(icu[icu.sex==\"female\"].temperature,\n",
    "              icu[icu.sex==\"male\"].temperature,equal_var=False\n",
    "             )"
   ]
  },
  {
   "cell_type": "code",
   "execution_count": 31,
   "id": "cd2e677c",
   "metadata": {},
   "outputs": [
    {
     "data": {
      "text/plain": [
       "Ttest_indResult(statistic=-1.2514171914600383, pvalue=0.21168583024595652)"
      ]
     },
     "execution_count": 31,
     "metadata": {},
     "output_type": "execute_result"
    }
   ],
   "source": [
    "sts.ttest_ind(icu.drop(397)[icu.drop(397).sex==\"female\"].temperature,   \n",
    "              icu.drop(397)[icu.drop(397).sex==\"male\"].temperature,equal_var=False\n",
    "             )"
   ]
  },
  {
   "cell_type": "code",
   "execution_count": null,
   "id": "599debba",
   "metadata": {},
   "outputs": [],
   "source": [
    "# wilcoxon signed rank \n",
    "\n",
    "# wilcoxon mann whitney u test\n",
    "\n",
    "# F testi\n",
    "\n",
    "# ansari-bradley testi"
   ]
  },
  {
   "cell_type": "code",
   "execution_count": 32,
   "id": "843a1ada",
   "metadata": {},
   "outputs": [
    {
     "data": {
      "text/plain": [
       "BinomTestResult(k=25, n=500, alternative='less', proportion_estimate=0.05, pvalue=0.5529388564087528)"
      ]
     },
     "execution_count": 32,
     "metadata": {},
     "output_type": "execute_result"
    }
   ],
   "source": [
    "sts.binomtest(25,500,p=0.05,alternative=\"less\")"
   ]
  },
  {
   "cell_type": "code",
   "execution_count": null,
   "id": "7466abb5",
   "metadata": {},
   "outputs": [],
   "source": []
  },
  {
   "cell_type": "code",
   "execution_count": null,
   "id": "3a1520f8",
   "metadata": {},
   "outputs": [],
   "source": []
  },
  {
   "cell_type": "code",
   "execution_count": null,
   "id": "821df84b",
   "metadata": {},
   "outputs": [],
   "source": []
  },
  {
   "cell_type": "code",
   "execution_count": null,
   "id": "4ed42199",
   "metadata": {},
   "outputs": [],
   "source": []
  },
  {
   "cell_type": "code",
   "execution_count": null,
   "id": "ab110fb3",
   "metadata": {},
   "outputs": [],
   "source": []
  },
  {
   "cell_type": "code",
   "execution_count": null,
   "id": "81649145",
   "metadata": {},
   "outputs": [],
   "source": []
  },
  {
   "cell_type": "code",
   "execution_count": null,
   "id": "2b08260f",
   "metadata": {},
   "outputs": [],
   "source": []
  },
  {
   "cell_type": "code",
   "execution_count": null,
   "id": "b111281a",
   "metadata": {},
   "outputs": [],
   "source": []
  },
  {
   "cell_type": "code",
   "execution_count": null,
   "id": "e564ef4f",
   "metadata": {},
   "outputs": [],
   "source": []
  },
  {
   "cell_type": "code",
   "execution_count": null,
   "id": "9d61624e",
   "metadata": {},
   "outputs": [],
   "source": []
  }
 ],
 "metadata": {
  "kernelspec": {
   "display_name": "Python 3 (ipykernel)",
   "language": "python",
   "name": "python3"
  },
  "language_info": {
   "codemirror_mode": {
    "name": "ipython",
    "version": 3
   },
   "file_extension": ".py",
   "mimetype": "text/x-python",
   "name": "python",
   "nbconvert_exporter": "python",
   "pygments_lexer": "ipython3",
   "version": "3.9.12"
  }
 },
 "nbformat": 4,
 "nbformat_minor": 5
}
