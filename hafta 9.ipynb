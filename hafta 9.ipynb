{
 "cells": [
  {
   "cell_type": "code",
   "execution_count": 1,
   "id": "fe198a17",
   "metadata": {},
   "outputs": [],
   "source": [
    "# qqplot-->"
   ]
  },
  {
   "cell_type": "code",
   "execution_count": 2,
   "id": "b9677dd4",
   "metadata": {},
   "outputs": [],
   "source": [
    " # gmean fonksşyponu geometrik ortalama bulmak için bullanalıan kütüphane"
   ]
  },
  {
   "cell_type": "code",
   "execution_count": 3,
   "id": "a9d92a0a",
   "metadata": {},
   "outputs": [
    {
     "data": {
      "text/plain": [
       "2.8473262538107837"
      ]
     },
     "execution_count": 3,
     "metadata": {},
     "output_type": "execute_result"
    }
   ],
   "source": [
    "from scipy.stats import gmean\n",
    "import math\n",
    "\n",
    "import pandas as pd\n",
    "icu =pd.read_csv(\"ICUData.csv\")\n",
    "\n",
    "math.log(gmean(icu.bilirubin))"
   ]
  },
  {
   "cell_type": "code",
   "execution_count": 4,
   "id": "08a14a8e",
   "metadata": {},
   "outputs": [
    {
     "data": {
      "text/plain": [
       "2.847326253810784"
      ]
     },
     "execution_count": 4,
     "metadata": {},
     "output_type": "execute_result"
    }
   ],
   "source": [
    "from statistics import mean\n",
    "import numpy as np\n",
    "mean(np.log(icu.bilirubin))"
   ]
  },
  {
   "cell_type": "code",
   "execution_count": 5,
   "id": "259d695a",
   "metadata": {},
   "outputs": [
    {
     "data": {
      "text/plain": [
       "17.24162043918728"
      ]
     },
     "execution_count": 5,
     "metadata": {},
     "output_type": "execute_result"
    }
   ],
   "source": [
    "np.exp(mean(np.log(icu.bilirubin)))"
   ]
  },
  {
   "cell_type": "code",
   "execution_count": 6,
   "id": "e434e571",
   "metadata": {},
   "outputs": [
    {
     "data": {
      "text/plain": [
       "17.241620439187272"
      ]
     },
     "execution_count": 6,
     "metadata": {},
     "output_type": "execute_result"
    }
   ],
   "source": [
    "gmean(icu.bilirubin)"
   ]
  },
  {
   "cell_type": "code",
   "execution_count": 7,
   "id": "550bffcc",
   "metadata": {},
   "outputs": [],
   "source": [
    "# örneklem iyi seçildiyse popülasyonun dağılımı hakkında bilgi söyleyebiriz."
   ]
  },
  {
   "cell_type": "code",
   "execution_count": 8,
   "id": "f1c87288",
   "metadata": {},
   "outputs": [
    {
     "data": {
      "text/plain": [
       "1.7354738543112644"
      ]
     },
     "execution_count": 8,
     "metadata": {},
     "output_type": "execute_result"
    }
   ],
   "source": [
    "from statistics import variance, stdev\n",
    "variance(icu.temperature)\n",
    "stdev(icu.temperature)"
   ]
  },
  {
   "cell_type": "code",
   "execution_count": 9,
   "id": "68e987dc",
   "metadata": {},
   "outputs": [],
   "source": [
    "#ortalama 15 std 10sa  veriler arasında çok farklar var demek.\n",
    "#aritmetik ort = medyan ( yada yakın)  verielr ortalama etrafına yakın dağılır."
   ]
  },
  {
   "cell_type": "code",
   "execution_count": 10,
   "id": "ef5a38b8",
   "metadata": {},
   "outputs": [
    {
     "data": {
      "text/plain": [
       "1.7354738543112644"
      ]
     },
     "execution_count": 10,
     "metadata": {},
     "output_type": "execute_result"
    }
   ],
   "source": [
    "stdev(icu.temperature)   # standart sapması"
   ]
  },
  {
   "cell_type": "code",
   "execution_count": 11,
   "id": "320800d1",
   "metadata": {},
   "outputs": [
    {
     "data": {
      "text/plain": [
       "1.1860817748044774"
      ]
     },
     "execution_count": 11,
     "metadata": {},
     "output_type": "execute_result"
    }
   ],
   "source": [
    "# medyan mutlak sapması\n",
    "from statsmodels import robust\n",
    "robust.mad(icu.temperature)"
   ]
  },
  {
   "cell_type": "code",
   "execution_count": 12,
   "id": "c6096731",
   "metadata": {},
   "outputs": [],
   "source": [
    "# sıcaklık dağılımı aritmetik ortalma aerrafınd anırmal dağolmıyır .\n",
    "# std sapmayı bozan aykırı değerler vardır.\n",
    "#"
   ]
  },
  {
   "cell_type": "code",
   "execution_count": 13,
   "id": "b7d04ee8",
   "metadata": {},
   "outputs": [
    {
     "data": {
      "text/plain": [
       "0.046078767983370086"
      ]
     },
     "execution_count": 13,
     "metadata": {},
     "output_type": "execute_result"
    }
   ],
   "source": [
    "# değişim katsayısı\n",
    "stdev(icu.temperature) / mean(icu.temperature)  # cv"
   ]
  },
  {
   "cell_type": "code",
   "execution_count": 14,
   "id": "d82199e5",
   "metadata": {},
   "outputs": [
    {
     "data": {
      "text/plain": [
       "0.03146105503460152"
      ]
     },
     "execution_count": 14,
     "metadata": {},
     "output_type": "execute_result"
    }
   ],
   "source": [
    "from statistics import median\n",
    "robust.mad(icu.temperature)/median(icu.temperature)"
   ]
  },
  {
   "cell_type": "code",
   "execution_count": 15,
   "id": "92d44e6f",
   "metadata": {},
   "outputs": [
    {
     "data": {
      "text/plain": [
       "0.03978779840848806"
      ]
     },
     "execution_count": 15,
     "metadata": {},
     "output_type": "execute_result"
    }
   ],
   "source": [
    "from scipy.stats import iqr\n",
    "iqr(icu.temperature) / median(icu.temperature)"
   ]
  },
  {
   "cell_type": "code",
   "execution_count": 16,
   "id": "e2783a19",
   "metadata": {},
   "outputs": [],
   "source": [
    "# çarpık veriler "
   ]
  },
  {
   "cell_type": "code",
   "execution_count": 17,
   "id": "3fe41921",
   "metadata": {},
   "outputs": [
    {
     "data": {
      "text/plain": [
       "-8.800959897847758"
      ]
     },
     "execution_count": 17,
     "metadata": {},
     "output_type": "execute_result"
    }
   ],
   "source": [
    "from scipy.stats import skew  # veri dağılımı sola çarpık - çıktı (skew=0 normal dağılım = simetrik)\n",
    "skew(icu.temperature)"
   ]
  },
  {
   "cell_type": "code",
   "execution_count": 18,
   "id": "8ee8ce00",
   "metadata": {},
   "outputs": [
    {
     "data": {
      "text/html": [
       "<div>\n",
       "<style scoped>\n",
       "    .dataframe tbody tr th:only-of-type {\n",
       "        vertical-align: middle;\n",
       "    }\n",
       "\n",
       "    .dataframe tbody tr th {\n",
       "        vertical-align: top;\n",
       "    }\n",
       "\n",
       "    .dataframe thead th {\n",
       "        text-align: right;\n",
       "    }\n",
       "</style>\n",
       "<table border=\"1\" class=\"dataframe\">\n",
       "  <thead>\n",
       "    <tr style=\"text-align: right;\">\n",
       "      <th></th>\n",
       "      <th>ID</th>\n",
       "      <th>sex</th>\n",
       "      <th>age</th>\n",
       "      <th>surgery</th>\n",
       "      <th>heart rate</th>\n",
       "      <th>temperature</th>\n",
       "      <th>bilirubin</th>\n",
       "      <th>SAPS II</th>\n",
       "      <th>liver failure</th>\n",
       "      <th>LOS</th>\n",
       "      <th>outcome</th>\n",
       "    </tr>\n",
       "  </thead>\n",
       "  <tbody>\n",
       "    <tr>\n",
       "      <th>397</th>\n",
       "      <td>398</td>\n",
       "      <td>male</td>\n",
       "      <td>81</td>\n",
       "      <td>other</td>\n",
       "      <td>123.0</td>\n",
       "      <td>9.1</td>\n",
       "      <td>20.23374</td>\n",
       "      <td>99</td>\n",
       "      <td>0</td>\n",
       "      <td>1</td>\n",
       "      <td>died</td>\n",
       "    </tr>\n",
       "  </tbody>\n",
       "</table>\n",
       "</div>"
      ],
      "text/plain": [
       "      ID   sex  age surgery  heart rate  temperature  bilirubin  SAPS II  \\\n",
       "397  398  male   81   other       123.0          9.1   20.23374       99   \n",
       "\n",
       "     liver failure  LOS outcome  \n",
       "397              0    1    died  "
      ]
     },
     "execution_count": 18,
     "metadata": {},
     "output_type": "execute_result"
    }
   ],
   "source": [
    "icu.temperature[397]   # çıktısı 9.1\n",
    "# 9.1 değerine sahip olan veriyi göstermesini istiyoruz.\n",
    "icu[icu[\"temperature\"]== 9.1]"
   ]
  },
  {
   "cell_type": "code",
   "execution_count": 19,
   "id": "7c6985a0",
   "metadata": {},
   "outputs": [
    {
     "data": {
      "text/plain": [
       "0.31523806699087253"
      ]
     },
     "execution_count": 19,
     "metadata": {},
     "output_type": "execute_result"
    }
   ],
   "source": [
    "skew(icu.temperature.drop(397))   # aykırı kaydı silip ...."
   ]
  },
  {
   "cell_type": "code",
   "execution_count": 20,
   "id": "4bb0349b",
   "metadata": {},
   "outputs": [
    {
     "data": {
      "text/plain": [
       "1.1731873166428928"
      ]
     },
     "execution_count": 20,
     "metadata": {},
     "output_type": "execute_result"
    }
   ],
   "source": [
    "stdev(icu.temperature.drop(397))"
   ]
  },
  {
   "cell_type": "code",
   "execution_count": 21,
   "id": "2ea88255",
   "metadata": {},
   "outputs": [
    {
     "data": {
      "text/plain": [
       "4.895505496636184"
      ]
     },
     "execution_count": 21,
     "metadata": {},
     "output_type": "execute_result"
    }
   ],
   "source": [
    "skew(icu.LOS)  # sağa çarpık."
   ]
  },
  {
   "cell_type": "code",
   "execution_count": 22,
   "id": "19fce1f0",
   "metadata": {},
   "outputs": [
    {
     "data": {
      "text/plain": [
       "145.05652943229478"
      ]
     },
     "execution_count": 22,
     "metadata": {},
     "output_type": "execute_result"
    }
   ],
   "source": [
    "# basıklık (kurtosis)\n",
    "from scipy.stats import kurtosis\n",
    "kurtosis(icu.temperature) #0> daha dik"
   ]
  },
  {
   "cell_type": "code",
   "execution_count": 23,
   "id": "7dd3fe72",
   "metadata": {},
   "outputs": [
    {
     "data": {
      "text/plain": [
       "0.3566105994244779"
      ]
     },
     "execution_count": 23,
     "metadata": {},
     "output_type": "execute_result"
    }
   ],
   "source": [
    "kurtosis(icu.temperature.drop(397))"
   ]
  },
  {
   "cell_type": "code",
   "execution_count": 24,
   "id": "21197dc0",
   "metadata": {},
   "outputs": [
    {
     "data": {
      "text/plain": [
       "33.74164008536902"
      ]
     },
     "execution_count": 24,
     "metadata": {},
     "output_type": "execute_result"
    }
   ],
   "source": [
    "kurtosis(icu.LOS)  # kurtosis >0 "
   ]
  },
  {
   "cell_type": "code",
   "execution_count": 25,
   "id": "f2b8c9d9",
   "metadata": {},
   "outputs": [],
   "source": [
    "# histogram grafik.... y ekseni frekans "
   ]
  },
  {
   "cell_type": "code",
   "execution_count": 26,
   "id": "c72addf3",
   "metadata": {},
   "outputs": [
    {
     "data": {
      "text/plain": [
       "<AxesSubplot:xlabel='temperature', ylabel='Count'>"
      ]
     },
     "execution_count": 26,
     "metadata": {},
     "output_type": "execute_result"
    },
    {
     "data": {
      "image/png": "[encoded data removed]",
      "text/plain": [
       "<Figure size 432x288 with 1 Axes>"
      ]
     },
     "metadata": {
      "needs_background": "light"
     },
     "output_type": "display_data"
    }
   ],
   "source": [
    "import seaborn as sns   # histogram grafik çizim kütüphanesi\n",
    "sns.histplot(icu.temperature)"
   ]
  },
  {
   "cell_type": "code",
   "execution_count": 27,
   "id": "d9772a6a",
   "metadata": {},
   "outputs": [
    {
     "data": {
      "text/plain": [
       "[(33.0, 43.0),\n",
       " Text(0.5, 0, 'Maximum Body Temperature'),\n",
       " Text(0, 0.5, 'Absolute Frequency'),\n",
       " Text(0.5, 1.0, '500 ICU Patients')]"
      ]
     },
     "execution_count": 27,
     "metadata": {},
     "output_type": "execute_result"
    },
    {
     "data": {
      "image/png": "[encoded data removed]",
      "text/plain": [
       "<Figure size 432x288 with 1 Axes>"
      ]
     },
     "metadata": {
      "needs_background": "light"
     },
     "output_type": "display_data"
    }
   ],
   "source": [
    "hst=sns.histplot(icu.temperature)\n",
    "hst.set(xlim=(33,43),xlabel=\"Maximum Body Temperature\",\n",
    "       ylabel=\"Absolute Frequency\", title=\"500 ICU Patients\")"
   ]
  },
  {
   "cell_type": "code",
   "execution_count": 28,
   "id": "28470ee1",
   "metadata": {},
   "outputs": [
    {
     "data": {
      "text/plain": [
       "[Text(0.5, 0, 'Long of Stay inDays'),\n",
       " Text(0, 0.5, 'Absolute Frequency'),\n",
       " Text(0.5, 1.0, '500 ICU Patients')]"
      ]
     },
     "execution_count": 28,
     "metadata": {},
     "output_type": "execute_result"
    },
    {
     "data": {
      "image/png": "[encoded data removed]",
      "text/plain": [
       "<Figure size 432x288 with 1 Axes>"
      ]
     },
     "metadata": {
      "needs_background": "light"
     },
     "output_type": "display_data"
    }
   ],
   "source": [
    "hst = sns.histplot(icu.LOS, binwidth=1)   # bindwith her bir kutucuğun genişliğini ayarlar.\n",
    "hst.set(xlabel=\"Long of Stay inDays\",\n",
    "       ylabel=\"Absolute Frequency\",title=\"500 ICU Patients\")"
   ]
  },
  {
   "cell_type": "code",
   "execution_count": 29,
   "id": "bad6276d",
   "metadata": {},
   "outputs": [
    {
     "data": {
      "text/plain": [
       "<AxesSubplot:xlabel='temperature', ylabel='Density'>"
      ]
     },
     "execution_count": 29,
     "metadata": {},
     "output_type": "execute_result"
    },
    {
     "data": {
      "image/png": "[encoded data removed]",
      "text/plain": [
       "<Figure size 432x288 with 1 Axes>"
      ]
     },
     "metadata": {
      "needs_background": "light"
     },
     "output_type": "display_data"
    }
   ],
   "source": [
    "# tahmini yoğunlukalr   --> kutucuk sayısından etkilenmiyor.\n",
    "\n",
    "sns.kdeplot(icu.temperature)"
   ]
  }
 ],
 "metadata": {
  "kernelspec": {
   "display_name": "Python 3 (ipykernel)",
   "language": "python",
   "name": "python3"
  },
  "language_info": {
   "codemirror_mode": {
    "name": "ipython",
    "version": 3
   },
   "file_extension": ".py",
   "mimetype": "text/x-python",
   "name": "python",
   "nbconvert_exporter": "python",
   "pygments_lexer": "ipython3",
   "version": "3.9.12"
  }
 },
 "nbformat": 4,
 "nbformat_minor": 5
}
