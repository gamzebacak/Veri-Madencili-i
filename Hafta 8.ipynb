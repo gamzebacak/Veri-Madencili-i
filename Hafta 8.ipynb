{
 "cells": [
  {
   "cell_type": "code",
   "execution_count": 15,
   "id": "b748e3c0",
   "metadata": {},
   "outputs": [],
   "source": [
    "import seaborn as sns"
   ]
  },
  {
   "cell_type": "code",
   "execution_count": 16,
   "id": "c6459882",
   "metadata": {},
   "outputs": [
    {
     "data": {
      "text/html": [
       "<div>\n",
       "<style scoped>\n",
       "    .dataframe tbody tr th:only-of-type {\n",
       "        vertical-align: middle;\n",
       "    }\n",
       "\n",
       "    .dataframe tbody tr th {\n",
       "        vertical-align: top;\n",
       "    }\n",
       "\n",
       "    .dataframe thead th {\n",
       "        text-align: right;\n",
       "    }\n",
       "</style>\n",
       "<table border=\"1\" class=\"dataframe\">\n",
       "  <thead>\n",
       "    <tr style=\"text-align: right;\">\n",
       "      <th></th>\n",
       "      <th>ID</th>\n",
       "      <th>sex</th>\n",
       "      <th>age</th>\n",
       "      <th>surgery</th>\n",
       "      <th>heart rate</th>\n",
       "      <th>temperature</th>\n",
       "      <th>bilirubin</th>\n",
       "      <th>SAPS II</th>\n",
       "      <th>liver failure</th>\n",
       "      <th>LOS</th>\n",
       "      <th>outcome</th>\n",
       "    </tr>\n",
       "  </thead>\n",
       "  <tbody>\n",
       "    <tr>\n",
       "      <th>0</th>\n",
       "      <td>1</td>\n",
       "      <td>female</td>\n",
       "      <td>76</td>\n",
       "      <td>other</td>\n",
       "      <td>98.0</td>\n",
       "      <td>36.5</td>\n",
       "      <td>6.512142</td>\n",
       "      <td>57</td>\n",
       "      <td>0</td>\n",
       "      <td>1</td>\n",
       "      <td>died</td>\n",
       "    </tr>\n",
       "    <tr>\n",
       "      <th>1</th>\n",
       "      <td>2</td>\n",
       "      <td>female</td>\n",
       "      <td>60</td>\n",
       "      <td>gastrointestinal</td>\n",
       "      <td>80.0</td>\n",
       "      <td>38.1</td>\n",
       "      <td>14.523197</td>\n",
       "      <td>52</td>\n",
       "      <td>0</td>\n",
       "      <td>2</td>\n",
       "      <td>home</td>\n",
       "    </tr>\n",
       "    <tr>\n",
       "      <th>2</th>\n",
       "      <td>3</td>\n",
       "      <td>male</td>\n",
       "      <td>66</td>\n",
       "      <td>cardiothoracic</td>\n",
       "      <td>99.6</td>\n",
       "      <td>37.4</td>\n",
       "      <td>22.972480</td>\n",
       "      <td>57</td>\n",
       "      <td>0</td>\n",
       "      <td>1</td>\n",
       "      <td>secondary care/rehab</td>\n",
       "    </tr>\n",
       "    <tr>\n",
       "      <th>3</th>\n",
       "      <td>4</td>\n",
       "      <td>male</td>\n",
       "      <td>74</td>\n",
       "      <td>other</td>\n",
       "      <td>110.0</td>\n",
       "      <td>39.1</td>\n",
       "      <td>19.299346</td>\n",
       "      <td>45</td>\n",
       "      <td>0</td>\n",
       "      <td>2</td>\n",
       "      <td>home</td>\n",
       "    </tr>\n",
       "    <tr>\n",
       "      <th>4</th>\n",
       "      <td>5</td>\n",
       "      <td>female</td>\n",
       "      <td>68</td>\n",
       "      <td>other</td>\n",
       "      <td>94.1</td>\n",
       "      <td>38.5</td>\n",
       "      <td>39.076485</td>\n",
       "      <td>49</td>\n",
       "      <td>0</td>\n",
       "      <td>1</td>\n",
       "      <td>home</td>\n",
       "    </tr>\n",
       "    <tr>\n",
       "      <th>...</th>\n",
       "      <td>...</td>\n",
       "      <td>...</td>\n",
       "      <td>...</td>\n",
       "      <td>...</td>\n",
       "      <td>...</td>\n",
       "      <td>...</td>\n",
       "      <td>...</td>\n",
       "      <td>...</td>\n",
       "      <td>...</td>\n",
       "      <td>...</td>\n",
       "      <td>...</td>\n",
       "    </tr>\n",
       "    <tr>\n",
       "      <th>495</th>\n",
       "      <td>496</td>\n",
       "      <td>male</td>\n",
       "      <td>62</td>\n",
       "      <td>cardiothoracic</td>\n",
       "      <td>118.0</td>\n",
       "      <td>37.3</td>\n",
       "      <td>13.234537</td>\n",
       "      <td>33</td>\n",
       "      <td>0</td>\n",
       "      <td>1</td>\n",
       "      <td>secondary care/rehab</td>\n",
       "    </tr>\n",
       "    <tr>\n",
       "      <th>496</th>\n",
       "      <td>497</td>\n",
       "      <td>male</td>\n",
       "      <td>67</td>\n",
       "      <td>cardiothoracic</td>\n",
       "      <td>115.0</td>\n",
       "      <td>38.0</td>\n",
       "      <td>10.740772</td>\n",
       "      <td>56</td>\n",
       "      <td>0</td>\n",
       "      <td>1</td>\n",
       "      <td>died</td>\n",
       "    </tr>\n",
       "    <tr>\n",
       "      <th>497</th>\n",
       "      <td>498</td>\n",
       "      <td>female</td>\n",
       "      <td>53</td>\n",
       "      <td>cardiothoracic</td>\n",
       "      <td>131.0</td>\n",
       "      <td>37.9</td>\n",
       "      <td>14.131188</td>\n",
       "      <td>38</td>\n",
       "      <td>0</td>\n",
       "      <td>3</td>\n",
       "      <td>secondary care/rehab</td>\n",
       "    </tr>\n",
       "    <tr>\n",
       "      <th>498</th>\n",
       "      <td>499</td>\n",
       "      <td>male</td>\n",
       "      <td>68</td>\n",
       "      <td>other</td>\n",
       "      <td>86.9</td>\n",
       "      <td>36.0</td>\n",
       "      <td>9.596478</td>\n",
       "      <td>66</td>\n",
       "      <td>0</td>\n",
       "      <td>2</td>\n",
       "      <td>home</td>\n",
       "    </tr>\n",
       "    <tr>\n",
       "      <th>499</th>\n",
       "      <td>500</td>\n",
       "      <td>male</td>\n",
       "      <td>75</td>\n",
       "      <td>cardiothoracic</td>\n",
       "      <td>92.0</td>\n",
       "      <td>37.6</td>\n",
       "      <td>11.660875</td>\n",
       "      <td>25</td>\n",
       "      <td>0</td>\n",
       "      <td>1</td>\n",
       "      <td>secondary care/rehab</td>\n",
       "    </tr>\n",
       "  </tbody>\n",
       "</table>\n",
       "<p>500 rows × 11 columns</p>\n",
       "</div>"
      ],
      "text/plain": [
       "      ID     sex  age           surgery  heart rate  temperature  bilirubin  \\\n",
       "0      1  female   76             other        98.0         36.5   6.512142   \n",
       "1      2  female   60  gastrointestinal        80.0         38.1  14.523197   \n",
       "2      3    male   66    cardiothoracic        99.6         37.4  22.972480   \n",
       "3      4    male   74             other       110.0         39.1  19.299346   \n",
       "4      5  female   68             other        94.1         38.5  39.076485   \n",
       "..   ...     ...  ...               ...         ...          ...        ...   \n",
       "495  496    male   62    cardiothoracic       118.0         37.3  13.234537   \n",
       "496  497    male   67    cardiothoracic       115.0         38.0  10.740772   \n",
       "497  498  female   53    cardiothoracic       131.0         37.9  14.131188   \n",
       "498  499    male   68             other        86.9         36.0   9.596478   \n",
       "499  500    male   75    cardiothoracic        92.0         37.6  11.660875   \n",
       "\n",
       "     SAPS II  liver failure  LOS               outcome  \n",
       "0         57              0    1                  died  \n",
       "1         52              0    2                  home  \n",
       "2         57              0    1  secondary care/rehab  \n",
       "3         45              0    2                  home  \n",
       "4         49              0    1                  home  \n",
       "..       ...            ...  ...                   ...  \n",
       "495       33              0    1  secondary care/rehab  \n",
       "496       56              0    1                  died  \n",
       "497       38              0    3  secondary care/rehab  \n",
       "498       66              0    2                  home  \n",
       "499       25              0    1  secondary care/rehab  \n",
       "\n",
       "[500 rows x 11 columns]"
      ]
     },
     "execution_count": 16,
     "metadata": {},
     "output_type": "execute_result"
    }
   ],
   "source": [
    "import pandas as pd\n",
    "icu = pd.read_csv(\"ICUData.csv\")\n",
    "icu"
   ]
  },
  {
   "cell_type": "code",
   "execution_count": 17,
   "id": "294f136c",
   "metadata": {},
   "outputs": [
    {
     "ename": "SyntaxError",
     "evalue": "invalid syntax (3154282715.py, line 2)",
     "output_type": "error",
     "traceback": [
      "\u001b[1;36m  Input \u001b[1;32mIn [17]\u001b[1;36m\u001b[0m\n\u001b[1;33m    Tek Değişkenli (Univariate) Analiz\u001b[0m\n\u001b[1;37m        ^\u001b[0m\n\u001b[1;31mSyntaxError\u001b[0m\u001b[1;31m:\u001b[0m invalid syntax\n"
     ]
    }
   ],
   "source": [
    "### Metric Değişkenler\n",
    "Tek Değişkenli (Univariate) Analiz\n",
    "- Mesafeler ve hatta oranlar tanımlandığından, metrik değişkenler durumunda daha ileri analizler mümkündür. \n",
    "Açıkça belirtilmediği takdirde, tanıtılan analizler aralık ve oran ölçekli değişkenler için de mümkündür.\n",
    "Muhtemelen verileri tanımlamak için en sık kullanılan istatistik aritmetik ortalamadır.\n",
    "- Bu bölümde yine icu veri seti kullanılmaktadır. YBÜ'de kalınan süre boyunca maksimum \n",
    "vücut sıcaklığının aritmetik ortalamasını bulalım.\n"
   ]
  },
  {
   "cell_type": "code",
   "execution_count": null,
   "id": "20a549dc",
   "metadata": {},
   "outputs": [],
   "source": [
    "icu.temperature.mean()"
   ]
  },
  {
   "cell_type": "code",
   "execution_count": null,
   "id": "884ea980",
   "metadata": {},
   "outputs": [],
   "source": [
    "Yani, aritmetik ortalama normal aralığın sadece biraz üzerindedir. Aritmetik ortalamayı virgülden sonra tek basamağa yuvarlamak için round fonksiyonu kullanılır."
   ]
  },
  {
   "cell_type": "code",
   "execution_count": null,
   "id": "70993234",
   "metadata": {},
   "outputs": [],
   "source": [
    "round(icu.temperature.mean(), 1)"
   ]
  },
  {
   "cell_type": "code",
   "execution_count": null,
   "id": "17bfaea7",
   "metadata": {},
   "outputs": [],
   "source": [
    "Aritmetik ortalamanın her zaman medyan ile karşılaştırılması tavsiye edilir, çünkü medyan verilerin ortasının başka bir tanımını verir ve aykırı değerlere karşı çok sağlamdır"
   ]
  },
  {
   "cell_type": "code",
   "execution_count": null,
   "id": "c9602a73",
   "metadata": {},
   "outputs": [],
   "source": [
    "import numpy as np\n",
    "import statistics as st\n",
    "np.median(icu.temperature)\n",
    "st.median(icu.temperature)"
   ]
  },
  {
   "cell_type": "code",
   "execution_count": null,
   "id": "97d79e56",
   "metadata": {},
   "outputs": [],
   "source": [
    "Medyan ve aritmetik ortalama aynı kabul edilebileceğinden, \n",
    "maksimum vücut sıcaklığı dağılımının aritmetik ortalama (medyan)\n",
    "etrafında oldukça simetrik olması muhtemeldir. Buna ek olarak, ya hiç \n",
    "aykırı değer yoktur ya da pozitif ve negatif aykırı değerler birbirini \n",
    "nötralize etmektedir. Gün cinsinden verilen LOS (kalış süresi) değişkenini \n",
    "kullanarak analizi tekrar edelim.\n"
   ]
  },
  {
   "cell_type": "code",
   "execution_count": null,
   "id": "672e8c03",
   "metadata": {},
   "outputs": [],
   "source": [
    "sns.histplot(icu.temperature, kde=True)"
   ]
  },
  {
   "cell_type": "code",
   "execution_count": null,
   "id": "d4150fef",
   "metadata": {},
   "outputs": [],
   "source": [
    "import plotly.express as px\n",
    "px.box(icu.temperature)"
   ]
  },
  {
   "cell_type": "code",
   "execution_count": null,
   "id": "90bce018",
   "metadata": {},
   "outputs": [],
   "source": [
    "print(f\"mean : {round(np.mean(icu.LOS), 1)}\")\n",
    "print(f\"median : {np.median(icu.LOS)}\")"
   ]
  },
  {
   "cell_type": "code",
   "execution_count": null,
   "id": "2d0f3dd1",
   "metadata": {},
   "outputs": [],
   "source": [
    "- Bu durumda, aritmetik ortalama ile medyan arasında açık bir fark görüyoruz. Ya LOS dağılımı çarpıktır (daha doğrusu sağa çarpıktır ya da aritmetik ortalamayı sağa çeken aykırı değerler vardır). "
   ]
  },
  {
   "cell_type": "code",
   "execution_count": null,
   "id": "5adb1d41",
   "metadata": {},
   "outputs": [],
   "source": [
    "sns.histplot(icu.LOS, kde=True)"
   ]
  },
  {
   "cell_type": "code",
   "execution_count": null,
   "id": "93c7f461",
   "metadata": {},
   "outputs": [],
   "source": [
    "- Verilerin diyagramlarını ele aldığımız aşağıda bu iki durumu ayırt edebileceğiz. Bir diğer konum parametresi, göreceli değişiklikler durumunda uygulanan geometrik ortalamadır. Bu konum ölçüsü yalnızca kesin pozitif veriler için anlamlı bir şekilde tanımlanır.\n",
    "\n",
    "![image](figure10.png)\n",
    "\n",
    "Aşağıdaki açıklamada, geometrik ve aritmetik ortalama arasındaki önemli bir bağlantı açıklanmaktadır.\n",
    "\n",
    "![image](figure11.png)\n",
    "\n",
    "Yani, logaritması alınmış gözlemlerin aritmetik ortalaması, logaritma tabanının önemsiz olduğu geometrik ortalamanın logaritmasına eşittir. Doğal logaritma (ln) seçilirse, e-fonksiyonu  uygulanarak yazılabilir.\n",
    "\n",
    "![image](figure12.png)\n",
    "\n",
    "Üstel bir büyüme veya azalma izleyen süreçler gözlemleniyorsa, verilerin logaritmasını almak ve logaritması alınmış gözlemleri analiz etmek genellikle daha kolaydır. Bu durum örneğin icu veri setinde yer alan bilirubin ölçümleri için geçerlidir."
   ]
  },
  {
   "cell_type": "code",
   "execution_count": null,
   "id": "72570eaa",
   "metadata": {},
   "outputs": [],
   "source": [
    "sns.histplot(icu.bilirubin, kde=True)"
   ]
  },
  {
   "cell_type": "code",
   "execution_count": null,
   "id": "9ac0b7c8",
   "metadata": {},
   "outputs": [],
   "source": [
    "import statsmodels.api as sm\n",
    "sm.qqplot(icu.bilirubin)"
   ]
  },
  {
   "cell_type": "code",
   "execution_count": null,
   "id": "43b15453",
   "metadata": {},
   "outputs": [],
   "source": []
  },
  {
   "cell_type": "code",
   "execution_count": null,
   "id": "631bc04c",
   "metadata": {},
   "outputs": [],
   "source": []
  },
  {
   "cell_type": "code",
   "execution_count": null,
   "id": "eed027f2",
   "metadata": {},
   "outputs": [],
   "source": []
  }
 ],
 "metadata": {
  "kernelspec": {
   "display_name": "Python 3 (ipykernel)",
   "language": "python",
   "name": "python3"
  },
  "language_info": {
   "codemirror_mode": {
    "name": "ipython",
    "version": 3
   },
   "file_extension": ".py",
   "mimetype": "text/x-python",
   "name": "python",
   "nbconvert_exporter": "python",
   "pygments_lexer": "ipython3",
   "version": "3.9.12"
  }
 },
 "nbformat": 4,
 "nbformat_minor": 5
}
